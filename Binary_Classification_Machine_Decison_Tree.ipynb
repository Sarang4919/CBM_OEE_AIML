{
 "cells": [
  {
   "cell_type": "code",
   "execution_count": 1,
   "id": "a644e03f",
   "metadata": {},
   "outputs": [],
   "source": [
    "import pandas as pd\n",
    "import numpy as np\n",
    "import matplotlib.pyplot as plt\n",
    "import seaborn as sns\n",
    "import warnings\n",
    "warnings.filterwarnings('ignore')\n",
    "pd.options.display.max_rows=None\n",
    "pd.options.display.max_columns =None\n",
    "pd.options.display.float_format ='{:.6f}'.format"
   ]
  },
  {
   "cell_type": "code",
   "execution_count": 2,
   "id": "e999796b",
   "metadata": {},
   "outputs": [],
   "source": [
    "plt.rcParams['figure.figsize'] = 12,6"
   ]
  },
  {
   "cell_type": "markdown",
   "id": "2624df34",
   "metadata": {},
   "source": [
    "# 2. Data Preparation"
   ]
  },
  {
   "cell_type": "markdown",
   "id": "e857abbb",
   "metadata": {},
   "source": [
    "# 2.1 Read the Data"
   ]
  },
  {
   "cell_type": "code",
   "execution_count": 3,
   "id": "a9d34731",
   "metadata": {},
   "outputs": [
    {
     "data": {
      "text/html": [
       "<div>\n",
       "<style scoped>\n",
       "    .dataframe tbody tr th:only-of-type {\n",
       "        vertical-align: middle;\n",
       "    }\n",
       "\n",
       "    .dataframe tbody tr th {\n",
       "        vertical-align: top;\n",
       "    }\n",
       "\n",
       "    .dataframe thead th {\n",
       "        text-align: right;\n",
       "    }\n",
       "</style>\n",
       "<table border=\"1\" class=\"dataframe\">\n",
       "  <thead>\n",
       "    <tr style=\"text-align: right;\">\n",
       "      <th></th>\n",
       "      <th>Lifetime</th>\n",
       "      <th>Broken</th>\n",
       "      <th>Temperature</th>\n",
       "      <th>Voltage</th>\n",
       "      <th>Current</th>\n",
       "      <th>Humidity</th>\n",
       "      <th>Vibration - X</th>\n",
       "      <th>Vibration  Y</th>\n",
       "      <th>Vibration  Z</th>\n",
       "      <th>Machine Name</th>\n",
       "      <th>Machine ID</th>\n",
       "      <th>Failure Model</th>\n",
       "      <th>Responsible Failure Cause</th>\n",
       "    </tr>\n",
       "  </thead>\n",
       "  <tbody>\n",
       "    <tr>\n",
       "      <th>0</th>\n",
       "      <td>56</td>\n",
       "      <td>1</td>\n",
       "      <td>30.000000</td>\n",
       "      <td>230.000000</td>\n",
       "      <td>1.500000</td>\n",
       "      <td>28.000000</td>\n",
       "      <td>0.404000</td>\n",
       "      <td>0.956000</td>\n",
       "      <td>9.125000</td>\n",
       "      <td>CNC Turning -1</td>\n",
       "      <td>20210045</td>\n",
       "      <td>Vibration Model</td>\n",
       "      <td>Y vibration is lower than Rated Y vibration</td>\n",
       "    </tr>\n",
       "    <tr>\n",
       "      <th>1</th>\n",
       "      <td>81</td>\n",
       "      <td>1</td>\n",
       "      <td>30.000000</td>\n",
       "      <td>230.000000</td>\n",
       "      <td>1.500000</td>\n",
       "      <td>28.000000</td>\n",
       "      <td>1.004000</td>\n",
       "      <td>1.143000</td>\n",
       "      <td>9.125000</td>\n",
       "      <td>CNC Turning -2</td>\n",
       "      <td>20210046</td>\n",
       "      <td>Lifetime Model</td>\n",
       "      <td>Exceeded Motor Running Hours as respective Man...</td>\n",
       "    </tr>\n",
       "    <tr>\n",
       "      <th>2</th>\n",
       "      <td>60</td>\n",
       "      <td>0</td>\n",
       "      <td>30.000000</td>\n",
       "      <td>230.000000</td>\n",
       "      <td>1.500000</td>\n",
       "      <td>34.000000</td>\n",
       "      <td>0.469000</td>\n",
       "      <td>1.290000</td>\n",
       "      <td>9.121000</td>\n",
       "      <td>CNC Turning -1</td>\n",
       "      <td>20210045</td>\n",
       "      <td>Healthy State</td>\n",
       "      <td>NaN</td>\n",
       "    </tr>\n",
       "    <tr>\n",
       "      <th>3</th>\n",
       "      <td>86</td>\n",
       "      <td>1</td>\n",
       "      <td>30.000000</td>\n",
       "      <td>230.000000</td>\n",
       "      <td>1.500000</td>\n",
       "      <td>34.000000</td>\n",
       "      <td>0.373000</td>\n",
       "      <td>1.112000</td>\n",
       "      <td>9.137000</td>\n",
       "      <td>CNC Turning -2</td>\n",
       "      <td>20210046</td>\n",
       "      <td>Lifetime Model</td>\n",
       "      <td>Exceeded Motor Running Hours as respective Man...</td>\n",
       "    </tr>\n",
       "    <tr>\n",
       "      <th>4</th>\n",
       "      <td>30</td>\n",
       "      <td>0</td>\n",
       "      <td>30.000000</td>\n",
       "      <td>230.000000</td>\n",
       "      <td>1.500000</td>\n",
       "      <td>31.000000</td>\n",
       "      <td>0.461000</td>\n",
       "      <td>1.282000</td>\n",
       "      <td>9.121000</td>\n",
       "      <td>CNC Turning -2</td>\n",
       "      <td>20210045</td>\n",
       "      <td>Healthy State</td>\n",
       "      <td>NaN</td>\n",
       "    </tr>\n",
       "  </tbody>\n",
       "</table>\n",
       "</div>"
      ],
      "text/plain": [
       "   Lifetime  Broken  Temperature    Voltage  Current  Humidity  Vibration - X  \\\n",
       "0        56       1    30.000000 230.000000 1.500000 28.000000       0.404000   \n",
       "1        81       1    30.000000 230.000000 1.500000 28.000000       1.004000   \n",
       "2        60       0    30.000000 230.000000 1.500000 34.000000       0.469000   \n",
       "3        86       1    30.000000 230.000000 1.500000 34.000000       0.373000   \n",
       "4        30       0    30.000000 230.000000 1.500000 31.000000       0.461000   \n",
       "\n",
       "   Vibration  Y  Vibration  Z    Machine Name  Machine ID    Failure Model  \\\n",
       "0      0.956000      9.125000  CNC Turning -1    20210045  Vibration Model   \n",
       "1      1.143000      9.125000  CNC Turning -2    20210046   Lifetime Model   \n",
       "2      1.290000      9.121000  CNC Turning -1    20210045    Healthy State   \n",
       "3      1.112000      9.137000  CNC Turning -2    20210046   Lifetime Model   \n",
       "4      1.282000      9.121000  CNC Turning -2    20210045    Healthy State   \n",
       "\n",
       "                           Responsible Failure Cause  \n",
       "0        Y vibration is lower than Rated Y vibration  \n",
       "1  Exceeded Motor Running Hours as respective Man...  \n",
       "2                                                NaN  \n",
       "3  Exceeded Motor Running Hours as respective Man...  \n",
       "4                                                NaN  "
      ]
     },
     "execution_count": 3,
     "metadata": {},
     "output_type": "execute_result"
    }
   ],
   "source": [
    "df = pd.read_excel('DATA_CBM_26_04_2022_rev02.xlsx',sheet_name = 'DATA_CBM_Lifetime Complete')\n",
    "df.head()"
   ]
  },
  {
   "cell_type": "code",
   "execution_count": 4,
   "id": "eeedab90",
   "metadata": {},
   "outputs": [
    {
     "name": "stdout",
     "output_type": "stream",
     "text": [
      "Number of Observations in data:  1255\n",
      "Number of features in data:  13\n"
     ]
    }
   ],
   "source": [
    "# Number of observations and features in the data\n",
    "\n",
    "print(\"Number of Observations in data: \",df.shape[0])\n",
    "print(\"Number of features in data: \",df.shape[1])"
   ]
  },
  {
   "cell_type": "markdown",
   "id": "815e999d",
   "metadata": {},
   "source": [
    "# 2.2 Check the Datatype"
   ]
  },
  {
   "cell_type": "markdown",
   "id": "c82afee7",
   "metadata": {},
   "source": [
    "Check the datatype of each feature. If the data type is not as per the data definition, change the data type"
   ]
  },
  {
   "cell_type": "code",
   "execution_count": 5,
   "id": "3adaca6c",
   "metadata": {},
   "outputs": [
    {
     "data": {
      "text/plain": [
       "Lifetime                       int64\n",
       "Broken                         int64\n",
       "Temperature                  float64\n",
       "Voltage                      float64\n",
       "Current                      float64\n",
       "Humidity                     float64\n",
       "Vibration - X                float64\n",
       "Vibration  Y                 float64\n",
       "Vibration  Z                 float64\n",
       "Machine Name                  object\n",
       "Machine ID                     int64\n",
       "Failure Model                 object\n",
       "Responsible Failure Cause     object\n",
       "dtype: object"
      ]
     },
     "execution_count": 5,
     "metadata": {},
     "output_type": "execute_result"
    }
   ],
   "source": [
    "df.dtypes"
   ]
  },
  {
   "cell_type": "markdown",
   "id": "9f6ead77",
   "metadata": {},
   "source": [
    "* Because {Broken} is of categorical type so we need to change the datatype from int64 to object type."
   ]
  },
  {
   "cell_type": "code",
   "execution_count": 6,
   "id": "a5523ba1",
   "metadata": {},
   "outputs": [],
   "source": [
    "df['Broken'] = df['Broken'].astype(object)"
   ]
  },
  {
   "cell_type": "markdown",
   "id": "924f72c0",
   "metadata": {},
   "source": [
    "# 2.3 Remove Insignificant Features"
   ]
  },
  {
   "cell_type": "markdown",
   "id": "7f3e4400",
   "metadata": {},
   "source": [
    "Machine Id and Responsible Failure Cause are insignficant for further Analysis.Thus drop the column"
   ]
  },
  {
   "cell_type": "code",
   "execution_count": 7,
   "id": "9f56985a",
   "metadata": {},
   "outputs": [],
   "source": [
    "df1 = df.drop(['Machine ID','Responsible Failure Cause'],axis=1)"
   ]
  },
  {
   "cell_type": "code",
   "execution_count": 8,
   "id": "16909de7",
   "metadata": {},
   "outputs": [
    {
     "data": {
      "text/html": [
       "<div>\n",
       "<style scoped>\n",
       "    .dataframe tbody tr th:only-of-type {\n",
       "        vertical-align: middle;\n",
       "    }\n",
       "\n",
       "    .dataframe tbody tr th {\n",
       "        vertical-align: top;\n",
       "    }\n",
       "\n",
       "    .dataframe thead th {\n",
       "        text-align: right;\n",
       "    }\n",
       "</style>\n",
       "<table border=\"1\" class=\"dataframe\">\n",
       "  <thead>\n",
       "    <tr style=\"text-align: right;\">\n",
       "      <th></th>\n",
       "      <th>Lifetime</th>\n",
       "      <th>Broken</th>\n",
       "      <th>Temperature</th>\n",
       "      <th>Voltage</th>\n",
       "      <th>Current</th>\n",
       "      <th>Humidity</th>\n",
       "      <th>Vibration - X</th>\n",
       "      <th>Vibration  Y</th>\n",
       "      <th>Vibration  Z</th>\n",
       "      <th>Machine Name</th>\n",
       "      <th>Failure Model</th>\n",
       "    </tr>\n",
       "  </thead>\n",
       "  <tbody>\n",
       "    <tr>\n",
       "      <th>0</th>\n",
       "      <td>56</td>\n",
       "      <td>1</td>\n",
       "      <td>30.000000</td>\n",
       "      <td>230.000000</td>\n",
       "      <td>1.500000</td>\n",
       "      <td>28.000000</td>\n",
       "      <td>0.404000</td>\n",
       "      <td>0.956000</td>\n",
       "      <td>9.125000</td>\n",
       "      <td>CNC Turning -1</td>\n",
       "      <td>Vibration Model</td>\n",
       "    </tr>\n",
       "    <tr>\n",
       "      <th>1</th>\n",
       "      <td>81</td>\n",
       "      <td>1</td>\n",
       "      <td>30.000000</td>\n",
       "      <td>230.000000</td>\n",
       "      <td>1.500000</td>\n",
       "      <td>28.000000</td>\n",
       "      <td>1.004000</td>\n",
       "      <td>1.143000</td>\n",
       "      <td>9.125000</td>\n",
       "      <td>CNC Turning -2</td>\n",
       "      <td>Lifetime Model</td>\n",
       "    </tr>\n",
       "    <tr>\n",
       "      <th>2</th>\n",
       "      <td>60</td>\n",
       "      <td>0</td>\n",
       "      <td>30.000000</td>\n",
       "      <td>230.000000</td>\n",
       "      <td>1.500000</td>\n",
       "      <td>34.000000</td>\n",
       "      <td>0.469000</td>\n",
       "      <td>1.290000</td>\n",
       "      <td>9.121000</td>\n",
       "      <td>CNC Turning -1</td>\n",
       "      <td>Healthy State</td>\n",
       "    </tr>\n",
       "    <tr>\n",
       "      <th>3</th>\n",
       "      <td>86</td>\n",
       "      <td>1</td>\n",
       "      <td>30.000000</td>\n",
       "      <td>230.000000</td>\n",
       "      <td>1.500000</td>\n",
       "      <td>34.000000</td>\n",
       "      <td>0.373000</td>\n",
       "      <td>1.112000</td>\n",
       "      <td>9.137000</td>\n",
       "      <td>CNC Turning -2</td>\n",
       "      <td>Lifetime Model</td>\n",
       "    </tr>\n",
       "    <tr>\n",
       "      <th>4</th>\n",
       "      <td>30</td>\n",
       "      <td>0</td>\n",
       "      <td>30.000000</td>\n",
       "      <td>230.000000</td>\n",
       "      <td>1.500000</td>\n",
       "      <td>31.000000</td>\n",
       "      <td>0.461000</td>\n",
       "      <td>1.282000</td>\n",
       "      <td>9.121000</td>\n",
       "      <td>CNC Turning -2</td>\n",
       "      <td>Healthy State</td>\n",
       "    </tr>\n",
       "  </tbody>\n",
       "</table>\n",
       "</div>"
      ],
      "text/plain": [
       "   Lifetime Broken  Temperature    Voltage  Current  Humidity  Vibration - X  \\\n",
       "0        56      1    30.000000 230.000000 1.500000 28.000000       0.404000   \n",
       "1        81      1    30.000000 230.000000 1.500000 28.000000       1.004000   \n",
       "2        60      0    30.000000 230.000000 1.500000 34.000000       0.469000   \n",
       "3        86      1    30.000000 230.000000 1.500000 34.000000       0.373000   \n",
       "4        30      0    30.000000 230.000000 1.500000 31.000000       0.461000   \n",
       "\n",
       "   Vibration  Y  Vibration  Z    Machine Name    Failure Model  \n",
       "0      0.956000      9.125000  CNC Turning -1  Vibration Model  \n",
       "1      1.143000      9.125000  CNC Turning -2   Lifetime Model  \n",
       "2      1.290000      9.121000  CNC Turning -1    Healthy State  \n",
       "3      1.112000      9.137000  CNC Turning -2   Lifetime Model  \n",
       "4      1.282000      9.121000  CNC Turning -2    Healthy State  "
      ]
     },
     "execution_count": 8,
     "metadata": {},
     "output_type": "execute_result"
    }
   ],
   "source": [
    "df1.head()"
   ]
  },
  {
   "cell_type": "markdown",
   "id": "edfc7d46",
   "metadata": {},
   "source": [
    "# 2.4 Distribution of Variables"
   ]
  },
  {
   "cell_type": "markdown",
   "id": "2e72382e",
   "metadata": {},
   "source": [
    "Distribution of numeric independent variables"
   ]
  },
  {
   "cell_type": "code",
   "execution_count": 9,
   "id": "bcff26b5",
   "metadata": {},
   "outputs": [
    {
     "data": {
      "image/png": "[encoded data removed]",
      "text/plain": [
       "<Figure size 864x432 with 9 Axes>"
      ]
     },
     "metadata": {
      "needs_background": "light"
     },
     "output_type": "display_data"
    },
    {
     "name": "stdout",
     "output_type": "stream",
     "text": [
      "Skewness\n"
     ]
    },
    {
     "data": {
      "text/plain": [
       "Lifetime        -0.558462\n",
       "Temperature     -0.472320\n",
       "Voltage         -2.475948\n",
       "Current         -0.225235\n",
       "Humidity         0.242820\n",
       "Vibration - X    0.590071\n",
       "Vibration  Y    -1.343317\n",
       "Vibration  Z     3.181236\n",
       "dtype: float64"
      ]
     },
     "execution_count": 9,
     "metadata": {},
     "output_type": "execute_result"
    }
   ],
   "source": [
    "df1.drop('Broken',axis=1).hist()\n",
    "plt.tight_layout()\n",
    "plt.show()\n",
    "print('Skewness')\n",
    "df1.drop('Broken',axis=1).skew()"
   ]
  },
  {
   "cell_type": "markdown",
   "id": "0e74bfe5",
   "metadata": {},
   "source": [
    "#### Interpretation: The above plot indicates that all features except{'Voltage' and 'Vibration  Z'} are nearly normally distributed."
   ]
  },
  {
   "cell_type": "markdown",
   "id": "66bc8624",
   "metadata": {},
   "source": [
    "#### Distribution of categorical Independent Variables"
   ]
  },
  {
   "cell_type": "code",
   "execution_count": 10,
   "id": "a110dc1f",
   "metadata": {},
   "outputs": [],
   "source": [
    "def cat_dist(data):\n",
    "    col = ['Machine Name','Failure Model']\n",
    "    for i in col:\n",
    "        plt.subplot(1,2,1)\n",
    "        sns.countplot(df1[i])\n",
    "        plt.title(f'Count Plot for {i}',fontsize=15)\n",
    "        plt.xlabel(i,fontsize=12)\n",
    "        plt.ylabel('Count',fontsize=12)\n",
    "        plt.tight_layout()\n",
    "        plt.show()"
   ]
  },
  {
   "cell_type": "code",
   "execution_count": 11,
   "id": "e53e011b",
   "metadata": {},
   "outputs": [
    {
     "data": {
      "image/png": "[encoded data removed]",
      "text/plain": [
       "<Figure size 864x432 with 1 Axes>"
      ]
     },
     "metadata": {
      "needs_background": "light"
     },
     "output_type": "display_data"
    },
    {
     "data": {
      "image/png": "[encoded data removed]",
      "text/plain": [
       "<Figure size 864x432 with 1 Axes>"
      ]
     },
     "metadata": {
      "needs_background": "light"
     },
     "output_type": "display_data"
    }
   ],
   "source": [
    "cat_dist(df1)"
   ]
  },
  {
   "cell_type": "markdown",
   "id": "1a6d51a6",
   "metadata": {},
   "source": [
    "#### Interpretation: 1) CNC Turning-1 is slightly more than CNC Turning-2 \n",
    "####                 2) Helathy state presence is highest.\n",
    "####                 3) Machine mostly broken by vibrational followed by Thermal and Electrical."
   ]
  },
  {
   "cell_type": "markdown",
   "id": "eb7c7eea",
   "metadata": {},
   "source": [
    "### Distribution of Dependent variable"
   ]
  },
  {
   "cell_type": "code",
   "execution_count": 12,
   "id": "7b25bf1c",
   "metadata": {},
   "outputs": [
    {
     "data": {
      "image/png": "[encoded data removed]",
      "text/plain": [
       "<Figure size 864x432 with 1 Axes>"
      ]
     },
     "metadata": {
      "needs_background": "light"
     },
     "output_type": "display_data"
    }
   ],
   "source": [
    "df1_target = df1['Broken'].copy()\n",
    "df1_target.value_counts()\n",
    "\n",
    "sns.countplot(x=df1_target)\n",
    "plt.text(x=-0.05,y=df1_target.value_counts()[0]+1,s=str(round((df1_target.value_counts()[0])*100/len(df1_target),2))+'%')\n",
    "plt.text(x=0.95,y=df1_target.value_counts()[1]+1,s=str(round((df1_target.value_counts()[1])*100/len(df1_target),2))+'%')\n",
    "plt.title('Count Plot for target variable(Broken)',fontsize=15)\n",
    "plt.xlabel('Target Variable',fontsize=12)\n",
    "plt.ylabel('Count',fontsize=12)\n",
    "plt.show()"
   ]
  },
  {
   "cell_type": "markdown",
   "id": "3725eda4",
   "metadata": {},
   "source": [
    "#### Interpretation: The above plot shows that there is little imbalance in target variable."
   ]
  },
  {
   "cell_type": "markdown",
   "id": "30b694c4",
   "metadata": {},
   "source": [
    "# 2.5 Missing Values and Treatment"
   ]
  },
  {
   "cell_type": "code",
   "execution_count": 13,
   "id": "12a64148",
   "metadata": {},
   "outputs": [
    {
     "data": {
      "text/html": [
       "<div>\n",
       "<style scoped>\n",
       "    .dataframe tbody tr th:only-of-type {\n",
       "        vertical-align: middle;\n",
       "    }\n",
       "\n",
       "    .dataframe tbody tr th {\n",
       "        vertical-align: top;\n",
       "    }\n",
       "\n",
       "    .dataframe thead th {\n",
       "        text-align: right;\n",
       "    }\n",
       "</style>\n",
       "<table border=\"1\" class=\"dataframe\">\n",
       "  <thead>\n",
       "    <tr style=\"text-align: right;\">\n",
       "      <th></th>\n",
       "      <th>Total</th>\n",
       "      <th>Percentage of missing values</th>\n",
       "    </tr>\n",
       "  </thead>\n",
       "  <tbody>\n",
       "    <tr>\n",
       "      <th>Lifetime</th>\n",
       "      <td>0</td>\n",
       "      <td>0.000000</td>\n",
       "    </tr>\n",
       "    <tr>\n",
       "      <th>Broken</th>\n",
       "      <td>0</td>\n",
       "      <td>0.000000</td>\n",
       "    </tr>\n",
       "    <tr>\n",
       "      <th>Temperature</th>\n",
       "      <td>0</td>\n",
       "      <td>0.000000</td>\n",
       "    </tr>\n",
       "    <tr>\n",
       "      <th>Voltage</th>\n",
       "      <td>0</td>\n",
       "      <td>0.000000</td>\n",
       "    </tr>\n",
       "    <tr>\n",
       "      <th>Current</th>\n",
       "      <td>0</td>\n",
       "      <td>0.000000</td>\n",
       "    </tr>\n",
       "    <tr>\n",
       "      <th>Humidity</th>\n",
       "      <td>0</td>\n",
       "      <td>0.000000</td>\n",
       "    </tr>\n",
       "    <tr>\n",
       "      <th>Vibration - X</th>\n",
       "      <td>0</td>\n",
       "      <td>0.000000</td>\n",
       "    </tr>\n",
       "    <tr>\n",
       "      <th>Vibration  Y</th>\n",
       "      <td>0</td>\n",
       "      <td>0.000000</td>\n",
       "    </tr>\n",
       "    <tr>\n",
       "      <th>Vibration  Z</th>\n",
       "      <td>0</td>\n",
       "      <td>0.000000</td>\n",
       "    </tr>\n",
       "    <tr>\n",
       "      <th>Machine Name</th>\n",
       "      <td>0</td>\n",
       "      <td>0.000000</td>\n",
       "    </tr>\n",
       "    <tr>\n",
       "      <th>Failure Model</th>\n",
       "      <td>0</td>\n",
       "      <td>0.000000</td>\n",
       "    </tr>\n",
       "  </tbody>\n",
       "</table>\n",
       "</div>"
      ],
      "text/plain": [
       "               Total  Percentage of missing values\n",
       "Lifetime           0                      0.000000\n",
       "Broken             0                      0.000000\n",
       "Temperature        0                      0.000000\n",
       "Voltage            0                      0.000000\n",
       "Current            0                      0.000000\n",
       "Humidity           0                      0.000000\n",
       "Vibration - X      0                      0.000000\n",
       "Vibration  Y       0                      0.000000\n",
       "Vibration  Z       0                      0.000000\n",
       "Machine Name       0                      0.000000\n",
       "Failure Model      0                      0.000000"
      ]
     },
     "execution_count": 13,
     "metadata": {},
     "output_type": "execute_result"
    }
   ],
   "source": [
    "total = df1.isnull().sum().sort_values(ascending=False)\n",
    "percent = round((df1.isnull().sum()*100/len(df1)),2).sort_values(ascending=False)\n",
    "missing_data = pd.concat([total,percent],keys=['Total','Percentage of missing values'],axis=1)\n",
    "missing_data"
   ]
  },
  {
   "cell_type": "markdown",
   "id": "cf787f4e",
   "metadata": {},
   "source": [
    "#### Interpretation: There is no missing values in this dataset"
   ]
  },
  {
   "cell_type": "markdown",
   "id": "abe93150",
   "metadata": {},
   "source": [
    "# 2.6 Outliers and Treatment "
   ]
  },
  {
   "cell_type": "code",
   "execution_count": 14,
   "id": "13d5c220",
   "metadata": {},
   "outputs": [
    {
     "data": {
      "image/png": "[encoded data removed]",
      "text/plain": [
       "<Figure size 864x432 with 1 Axes>"
      ]
     },
     "metadata": {
      "needs_background": "light"
     },
     "output_type": "display_data"
    },
    {
     "data": {
      "image/png": "[encoded data removed]",
      "text/plain": [
       "<Figure size 864x432 with 1 Axes>"
      ]
     },
     "metadata": {
      "needs_background": "light"
     },
     "output_type": "display_data"
    },
    {
     "data": {
      "image/png": "[encoded data removed]",
      "text/plain": [
       "<Figure size 864x432 with 1 Axes>"
      ]
     },
     "metadata": {
      "needs_background": "light"
     },
     "output_type": "display_data"
    },
    {
     "data": {
      "image/png": "[encoded data removed]",
      "text/plain": [
       "<Figure size 864x432 with 1 Axes>"
      ]
     },
     "metadata": {
      "needs_background": "light"
     },
     "output_type": "display_data"
    },
    {
     "data": {
      "image/png": "[encoded data removed]",
      "text/plain": [
       "<Figure size 864x432 with 1 Axes>"
      ]
     },
     "metadata": {
      "needs_background": "light"
     },
     "output_type": "display_data"
    },
    {
     "data": {
      "image/png": "[encoded data removed]",
      "text/plain": [
       "<Figure size 864x432 with 1 Axes>"
      ]
     },
     "metadata": {
      "needs_background": "light"
     },
     "output_type": "display_data"
    },
    {
     "data": {
      "image/png": "[encoded data removed]",
      "text/plain": [
       "<Figure size 864x432 with 1 Axes>"
      ]
     },
     "metadata": {
      "needs_background": "light"
     },
     "output_type": "display_data"
    },
    {
     "data": {
      "image/png": "[encoded data removed]",
      "text/plain": [
       "<Figure size 864x432 with 1 Axes>"
      ]
     },
     "metadata": {
      "needs_background": "light"
     },
     "output_type": "display_data"
    }
   ],
   "source": [
    "for i in df1.select_dtypes(include=np.number).columns:\n",
    "    plt.subplot(len((df1.select_dtypes(include=np.number).columns)),1,1)\n",
    "    sns.boxplot(df1[i],whis=4.5)\n",
    "    plt.tight_layout()\n",
    "    plt.show()"
   ]
  },
  {
   "cell_type": "markdown",
   "id": "26bf0cf0",
   "metadata": {},
   "source": [
    "#### Interpretation: \n",
    "#### 1) There are extreme values present in some features but they are continuous so avoid treating them.\n",
    "#### 2) As there are only 1255 observations so avoid removing extreme values as it will reduce number of observations which will not be sufficient for training and testing the model properly."
   ]
  },
  {
   "cell_type": "markdown",
   "id": "1ded568f",
   "metadata": {},
   "source": [
    "## 2.6 Dummy Encode the Categorical Varibales"
   ]
  },
  {
   "cell_type": "markdown",
   "id": "e5782c31",
   "metadata": {},
   "source": [
    "#### Split the dependent and independent Variables"
   ]
  },
  {
   "cell_type": "code",
   "execution_count": 15,
   "id": "19a067bc",
   "metadata": {},
   "outputs": [],
   "source": [
    "df1['Broken'] = df1['Broken'].astype('int64')"
   ]
  },
  {
   "cell_type": "code",
   "execution_count": 16,
   "id": "4be73854",
   "metadata": {},
   "outputs": [],
   "source": [
    "df1_target = df1['Broken']\n",
    "df1_feature = df1.drop('Broken',axis=1)"
   ]
  },
  {
   "cell_type": "markdown",
   "id": "8ad40599",
   "metadata": {},
   "source": [
    "#### filter numerical and categorical variables"
   ]
  },
  {
   "cell_type": "code",
   "execution_count": 17,
   "id": "c5be22e3",
   "metadata": {},
   "outputs": [
    {
     "data": {
      "text/plain": [
       "Index(['Lifetime', 'Temperature', 'Voltage', 'Current', 'Humidity',\n",
       "       'Vibration - X', 'Vibration  Y', 'Vibration  Z'],\n",
       "      dtype='object')"
      ]
     },
     "execution_count": 17,
     "metadata": {},
     "output_type": "execute_result"
    }
   ],
   "source": [
    "df1_num = df1_feature.select_dtypes(include=[np.number])\n",
    "df1_num.columns"
   ]
  },
  {
   "cell_type": "code",
   "execution_count": 18,
   "id": "6b3c52d4",
   "metadata": {},
   "outputs": [
    {
     "data": {
      "text/plain": [
       "Index(['Machine Name', 'Failure Model'], dtype='object')"
      ]
     },
     "execution_count": 18,
     "metadata": {},
     "output_type": "execute_result"
    }
   ],
   "source": [
    "df1_cat = df1_feature.select_dtypes(include=object)\n",
    "df1_cat.columns"
   ]
  },
  {
   "cell_type": "code",
   "execution_count": 19,
   "id": "01952f32",
   "metadata": {},
   "outputs": [],
   "source": [
    "#dummy_var = pd.get_dummies(data=df1_cat,drop_first=True)"
   ]
  },
  {
   "cell_type": "code",
   "execution_count": 20,
   "id": "02aa881d",
   "metadata": {},
   "outputs": [],
   "source": [
    "from sklearn.preprocessing import LabelEncoder"
   ]
  },
  {
   "cell_type": "code",
   "execution_count": 21,
   "id": "63889ae8",
   "metadata": {},
   "outputs": [],
   "source": [
    "LE = LabelEncoder()"
   ]
  },
  {
   "cell_type": "code",
   "execution_count": 22,
   "id": "a9b65a71",
   "metadata": {},
   "outputs": [],
   "source": [
    "df1_cat['Machine Name LE'] = LE.fit_transform(df1_cat['Machine Name'])"
   ]
  },
  {
   "cell_type": "code",
   "execution_count": 23,
   "id": "941d6152",
   "metadata": {},
   "outputs": [],
   "source": [
    "#df1_cat['Failure Model LE'] = LE.fit_transform(df1_feature['Failure Model'])"
   ]
  },
  {
   "cell_type": "code",
   "execution_count": 24,
   "id": "cfcea0c9",
   "metadata": {},
   "outputs": [],
   "source": [
    "dummy_var = df1_cat.drop(['Machine Name','Failure Model'],axis=1).copy()"
   ]
  },
  {
   "cell_type": "markdown",
   "id": "91bb83b2",
   "metadata": {},
   "source": [
    "# 2.7 Scale the Data"
   ]
  },
  {
   "cell_type": "markdown",
   "id": "5eefc4ef",
   "metadata": {},
   "source": [
    "Scale the variables to get all variables in same range."
   ]
  },
  {
   "cell_type": "code",
   "execution_count": 25,
   "id": "a4c1f10f",
   "metadata": {},
   "outputs": [],
   "source": [
    "from sklearn.preprocessing import StandardScaler"
   ]
  },
  {
   "cell_type": "code",
   "execution_count": 26,
   "id": "0c78427b",
   "metadata": {},
   "outputs": [],
   "source": [
    "X_scaler = StandardScaler()\n",
    "\n",
    "num_scaled = X_scaler.fit_transform(df1_num)\n",
    "df1_num_scaled = pd.DataFrame(num_scaled,columns=df1_num.columns)"
   ]
  },
  {
   "cell_type": "markdown",
   "id": "57081f23",
   "metadata": {},
   "source": [
    "#### Concatenate scaled numerical and dummy encoded categorical variables."
   ]
  },
  {
   "cell_type": "code",
   "execution_count": 27,
   "id": "de2bae05",
   "metadata": {},
   "outputs": [
    {
     "data": {
      "text/html": [
       "<div>\n",
       "<style scoped>\n",
       "    .dataframe tbody tr th:only-of-type {\n",
       "        vertical-align: middle;\n",
       "    }\n",
       "\n",
       "    .dataframe tbody tr th {\n",
       "        vertical-align: top;\n",
       "    }\n",
       "\n",
       "    .dataframe thead th {\n",
       "        text-align: right;\n",
       "    }\n",
       "</style>\n",
       "<table border=\"1\" class=\"dataframe\">\n",
       "  <thead>\n",
       "    <tr style=\"text-align: right;\">\n",
       "      <th></th>\n",
       "      <th>Lifetime</th>\n",
       "      <th>Temperature</th>\n",
       "      <th>Voltage</th>\n",
       "      <th>Current</th>\n",
       "      <th>Humidity</th>\n",
       "      <th>Vibration - X</th>\n",
       "      <th>Vibration  Y</th>\n",
       "      <th>Vibration  Z</th>\n",
       "      <th>Machine Name LE</th>\n",
       "    </tr>\n",
       "  </thead>\n",
       "  <tbody>\n",
       "    <tr>\n",
       "      <th>0</th>\n",
       "      <td>0.125835</td>\n",
       "      <td>0.059300</td>\n",
       "      <td>0.130816</td>\n",
       "      <td>0.408667</td>\n",
       "      <td>-0.470537</td>\n",
       "      <td>-0.418374</td>\n",
       "      <td>-0.485081</td>\n",
       "      <td>-0.012624</td>\n",
       "      <td>0</td>\n",
       "    </tr>\n",
       "    <tr>\n",
       "      <th>1</th>\n",
       "      <td>1.167269</td>\n",
       "      <td>0.059300</td>\n",
       "      <td>0.130816</td>\n",
       "      <td>0.408667</td>\n",
       "      <td>-0.470537</td>\n",
       "      <td>1.672329</td>\n",
       "      <td>0.022559</td>\n",
       "      <td>-0.012624</td>\n",
       "      <td>1</td>\n",
       "    </tr>\n",
       "    <tr>\n",
       "      <th>2</th>\n",
       "      <td>0.292464</td>\n",
       "      <td>0.059300</td>\n",
       "      <td>0.130816</td>\n",
       "      <td>0.408667</td>\n",
       "      <td>0.989951</td>\n",
       "      <td>-0.191881</td>\n",
       "      <td>0.421612</td>\n",
       "      <td>-0.033671</td>\n",
       "      <td>0</td>\n",
       "    </tr>\n",
       "    <tr>\n",
       "      <th>3</th>\n",
       "      <td>1.375555</td>\n",
       "      <td>0.059300</td>\n",
       "      <td>0.130816</td>\n",
       "      <td>0.408667</td>\n",
       "      <td>0.989951</td>\n",
       "      <td>-0.526393</td>\n",
       "      <td>-0.061596</td>\n",
       "      <td>0.050516</td>\n",
       "      <td>1</td>\n",
       "    </tr>\n",
       "    <tr>\n",
       "      <th>4</th>\n",
       "      <td>-0.957256</td>\n",
       "      <td>0.059300</td>\n",
       "      <td>0.130816</td>\n",
       "      <td>0.408667</td>\n",
       "      <td>0.259707</td>\n",
       "      <td>-0.219757</td>\n",
       "      <td>0.399895</td>\n",
       "      <td>-0.033671</td>\n",
       "      <td>1</td>\n",
       "    </tr>\n",
       "  </tbody>\n",
       "</table>\n",
       "</div>"
      ],
      "text/plain": [
       "   Lifetime  Temperature  Voltage  Current  Humidity  Vibration - X  \\\n",
       "0  0.125835     0.059300 0.130816 0.408667 -0.470537      -0.418374   \n",
       "1  1.167269     0.059300 0.130816 0.408667 -0.470537       1.672329   \n",
       "2  0.292464     0.059300 0.130816 0.408667  0.989951      -0.191881   \n",
       "3  1.375555     0.059300 0.130816 0.408667  0.989951      -0.526393   \n",
       "4 -0.957256     0.059300 0.130816 0.408667  0.259707      -0.219757   \n",
       "\n",
       "   Vibration  Y  Vibration  Z  Machine Name LE  \n",
       "0     -0.485081     -0.012624                0  \n",
       "1      0.022559     -0.012624                1  \n",
       "2      0.421612     -0.033671                0  \n",
       "3     -0.061596      0.050516                1  \n",
       "4      0.399895     -0.033671                1  "
      ]
     },
     "execution_count": 27,
     "metadata": {},
     "output_type": "execute_result"
    }
   ],
   "source": [
    "X = pd.concat([df1_num_scaled,dummy_var],axis=1)\n",
    "X.head()"
   ]
  },
  {
   "cell_type": "code",
   "execution_count": 28,
   "id": "ceccc7d0",
   "metadata": {},
   "outputs": [],
   "source": [
    "#X = pd.concat([df1_num,dummy_var],axis=1)\n",
    "#X.head()"
   ]
  },
  {
   "cell_type": "markdown",
   "id": "7028e47b",
   "metadata": {},
   "source": [
    "# 2.8 Train-Test Split"
   ]
  },
  {
   "cell_type": "code",
   "execution_count": 29,
   "id": "4075edeb",
   "metadata": {},
   "outputs": [],
   "source": [
    "from sklearn.model_selection import train_test_split"
   ]
  },
  {
   "cell_type": "code",
   "execution_count": 30,
   "id": "f2a53f3e",
   "metadata": {},
   "outputs": [],
   "source": [
    "import statsmodels.api as sm"
   ]
  },
  {
   "cell_type": "code",
   "execution_count": 31,
   "id": "c7d7d099",
   "metadata": {},
   "outputs": [
    {
     "name": "stdout",
     "output_type": "stream",
     "text": [
      "X train (878, 10)\n",
      "y train (878,)\n",
      "X test (377, 10)\n",
      "y test (377,)\n"
     ]
    }
   ],
   "source": [
    "X = sm.add_constant(X)\n",
    "X_train,X_test,y_train,y_test = train_test_split(X,df1_target,random_state=10,test_size=0.3)\n",
    "print('X train',X_train.shape)\n",
    "print('y train',y_train.shape)\n",
    "print('X test',X_test.shape)\n",
    "print('y test',y_test.shape)"
   ]
  },
  {
   "cell_type": "markdown",
   "id": "794fe5f7",
   "metadata": {},
   "source": [
    "##### Create a generalized function to create a dataframe containing the scores for the models."
   ]
  },
  {
   "cell_type": "code",
   "execution_count": 32,
   "id": "e87e1676",
   "metadata": {},
   "outputs": [],
   "source": [
    "from sklearn import metrics\n",
    "from sklearn.metrics import classification_report\n",
    "from sklearn.metrics import cohen_kappa_score\n",
    "from sklearn.metrics import confusion_matrix\n",
    "from sklearn.metrics import roc_curve\n",
    "from sklearn.metrics import precision_score,accuracy_score,f1_score,recall_score"
   ]
  },
  {
   "cell_type": "code",
   "execution_count": 33,
   "id": "55141e96",
   "metadata": {},
   "outputs": [],
   "source": [
    "score_card = pd.DataFrame(columns=['Probability Cutoff','AUC Score','Precision Score','Recall Score',\n",
    "                                   'Accuracy Score','Kappa Score','f1-score'])\n",
    "def update_score_card(model,cutoff):\n",
    "    # y_pred_prob be the predicted values of target variable\n",
    "    y_pred_prob = logreg.predict(X_test)\n",
    "    \n",
    "    # convert probabilities to 0 and 1 \n",
    "    y_pred = [0 if x<cutoff else 1 for x in y_pred_prob]\n",
    "    \n",
    "    global score_card\n",
    "    \n",
    "    score_card = score_card.append({'Probability Cutoff':cutoff,\n",
    "                                   'AUC Score':metrics.roc_auc_score(y_test,y_pred),\n",
    "                                   'Precision Score':metrics.precision_score(y_test,y_pred),\n",
    "                                   'Recall Score':metrics.recall_score(y_test,y_pred),\n",
    "                                   'Accuracy Score':metrics.accuracy_score(y_test,y_pred),\n",
    "                                   'Kappa Score':metrics.cohen_kappa_score(y_test,y_pred),\n",
    "                                   'f1-score':metrics.f1_score(y_test,y_pred)},ignore_index=True)"
   ]
  },
  {
   "cell_type": "markdown",
   "id": "a17cf25a",
   "metadata": {},
   "source": [
    "# USE Decision Tree to classify"
   ]
  },
  {
   "cell_type": "code",
   "execution_count": 34,
   "id": "d427af51",
   "metadata": {},
   "outputs": [],
   "source": [
    "from sklearn.tree import DecisionTreeClassifier"
   ]
  },
  {
   "cell_type": "code",
   "execution_count": 35,
   "id": "2f1e775b",
   "metadata": {},
   "outputs": [
    {
     "data": {
      "text/html": [
       "<div>\n",
       "<style scoped>\n",
       "    .dataframe tbody tr th:only-of-type {\n",
       "        vertical-align: middle;\n",
       "    }\n",
       "\n",
       "    .dataframe tbody tr th {\n",
       "        vertical-align: top;\n",
       "    }\n",
       "\n",
       "    .dataframe thead th {\n",
       "        text-align: right;\n",
       "    }\n",
       "</style>\n",
       "<table border=\"1\" class=\"dataframe\">\n",
       "  <thead>\n",
       "    <tr style=\"text-align: right;\">\n",
       "      <th></th>\n",
       "      <th>Lifetime</th>\n",
       "      <th>Broken</th>\n",
       "      <th>Temperature</th>\n",
       "      <th>Voltage</th>\n",
       "      <th>Current</th>\n",
       "      <th>Humidity</th>\n",
       "      <th>Vibration - X</th>\n",
       "      <th>Vibration  Y</th>\n",
       "      <th>Vibration  Z</th>\n",
       "      <th>Machine Name</th>\n",
       "      <th>Failure Model</th>\n",
       "    </tr>\n",
       "  </thead>\n",
       "  <tbody>\n",
       "    <tr>\n",
       "      <th>0</th>\n",
       "      <td>56</td>\n",
       "      <td>1</td>\n",
       "      <td>30.000000</td>\n",
       "      <td>230.000000</td>\n",
       "      <td>1.500000</td>\n",
       "      <td>28.000000</td>\n",
       "      <td>0.404000</td>\n",
       "      <td>0.956000</td>\n",
       "      <td>9.125000</td>\n",
       "      <td>CNC Turning -1</td>\n",
       "      <td>Vibration Model</td>\n",
       "    </tr>\n",
       "    <tr>\n",
       "      <th>1</th>\n",
       "      <td>81</td>\n",
       "      <td>1</td>\n",
       "      <td>30.000000</td>\n",
       "      <td>230.000000</td>\n",
       "      <td>1.500000</td>\n",
       "      <td>28.000000</td>\n",
       "      <td>1.004000</td>\n",
       "      <td>1.143000</td>\n",
       "      <td>9.125000</td>\n",
       "      <td>CNC Turning -2</td>\n",
       "      <td>Lifetime Model</td>\n",
       "    </tr>\n",
       "    <tr>\n",
       "      <th>2</th>\n",
       "      <td>60</td>\n",
       "      <td>0</td>\n",
       "      <td>30.000000</td>\n",
       "      <td>230.000000</td>\n",
       "      <td>1.500000</td>\n",
       "      <td>34.000000</td>\n",
       "      <td>0.469000</td>\n",
       "      <td>1.290000</td>\n",
       "      <td>9.121000</td>\n",
       "      <td>CNC Turning -1</td>\n",
       "      <td>Healthy State</td>\n",
       "    </tr>\n",
       "    <tr>\n",
       "      <th>3</th>\n",
       "      <td>86</td>\n",
       "      <td>1</td>\n",
       "      <td>30.000000</td>\n",
       "      <td>230.000000</td>\n",
       "      <td>1.500000</td>\n",
       "      <td>34.000000</td>\n",
       "      <td>0.373000</td>\n",
       "      <td>1.112000</td>\n",
       "      <td>9.137000</td>\n",
       "      <td>CNC Turning -2</td>\n",
       "      <td>Lifetime Model</td>\n",
       "    </tr>\n",
       "    <tr>\n",
       "      <th>4</th>\n",
       "      <td>30</td>\n",
       "      <td>0</td>\n",
       "      <td>30.000000</td>\n",
       "      <td>230.000000</td>\n",
       "      <td>1.500000</td>\n",
       "      <td>31.000000</td>\n",
       "      <td>0.461000</td>\n",
       "      <td>1.282000</td>\n",
       "      <td>9.121000</td>\n",
       "      <td>CNC Turning -2</td>\n",
       "      <td>Healthy State</td>\n",
       "    </tr>\n",
       "  </tbody>\n",
       "</table>\n",
       "</div>"
      ],
      "text/plain": [
       "   Lifetime  Broken  Temperature    Voltage  Current  Humidity  Vibration - X  \\\n",
       "0        56       1    30.000000 230.000000 1.500000 28.000000       0.404000   \n",
       "1        81       1    30.000000 230.000000 1.500000 28.000000       1.004000   \n",
       "2        60       0    30.000000 230.000000 1.500000 34.000000       0.469000   \n",
       "3        86       1    30.000000 230.000000 1.500000 34.000000       0.373000   \n",
       "4        30       0    30.000000 230.000000 1.500000 31.000000       0.461000   \n",
       "\n",
       "   Vibration  Y  Vibration  Z    Machine Name    Failure Model  \n",
       "0      0.956000      9.125000  CNC Turning -1  Vibration Model  \n",
       "1      1.143000      9.125000  CNC Turning -2   Lifetime Model  \n",
       "2      1.290000      9.121000  CNC Turning -1    Healthy State  \n",
       "3      1.112000      9.137000  CNC Turning -2   Lifetime Model  \n",
       "4      1.282000      9.121000  CNC Turning -2    Healthy State  "
      ]
     },
     "execution_count": 35,
     "metadata": {},
     "output_type": "execute_result"
    }
   ],
   "source": [
    "df1.head()"
   ]
  },
  {
   "cell_type": "code",
   "execution_count": 36,
   "id": "77cdba26",
   "metadata": {},
   "outputs": [],
   "source": [
    "df2 = df1.drop('Failure Model',axis=1).copy()"
   ]
  },
  {
   "cell_type": "code",
   "execution_count": 37,
   "id": "1f22045b",
   "metadata": {},
   "outputs": [
    {
     "data": {
      "text/plain": [
       "Lifetime           int64\n",
       "Broken             int64\n",
       "Temperature      float64\n",
       "Voltage          float64\n",
       "Current          float64\n",
       "Humidity         float64\n",
       "Vibration - X    float64\n",
       "Vibration  Y     float64\n",
       "Vibration  Z     float64\n",
       "Machine Name      object\n",
       "dtype: object"
      ]
     },
     "execution_count": 37,
     "metadata": {},
     "output_type": "execute_result"
    }
   ],
   "source": [
    "df2.dtypes"
   ]
  },
  {
   "cell_type": "markdown",
   "id": "32b05c53",
   "metadata": {},
   "source": [
    "#### split the dataset into independent and dependent variables"
   ]
  },
  {
   "cell_type": "code",
   "execution_count": 38,
   "id": "f13d6545",
   "metadata": {},
   "outputs": [],
   "source": [
    "df2_target = df2['Broken']\n",
    "df2_feature = df2.drop('Broken',axis=1)"
   ]
  },
  {
   "cell_type": "markdown",
   "id": "82d11d4c",
   "metadata": {},
   "source": [
    "#### split the independent variables into numerical and categorical"
   ]
  },
  {
   "cell_type": "code",
   "execution_count": 39,
   "id": "ea2bd29f",
   "metadata": {},
   "outputs": [
    {
     "data": {
      "text/plain": [
       "Index(['Lifetime', 'Temperature', 'Voltage', 'Current', 'Humidity',\n",
       "       'Vibration - X', 'Vibration  Y', 'Vibration  Z'],\n",
       "      dtype='object')"
      ]
     },
     "execution_count": 39,
     "metadata": {},
     "output_type": "execute_result"
    }
   ],
   "source": [
    "df2_num = df2_feature.select_dtypes(include=np.number)\n",
    "df2_num.columns"
   ]
  },
  {
   "cell_type": "code",
   "execution_count": 40,
   "id": "debb9a3a",
   "metadata": {},
   "outputs": [
    {
     "data": {
      "text/plain": [
       "Index(['Machine Name'], dtype='object')"
      ]
     },
     "execution_count": 40,
     "metadata": {},
     "output_type": "execute_result"
    }
   ],
   "source": [
    "df2_cat = df2_feature.select_dtypes(include=object)\n",
    "df2_cat.columns"
   ]
  },
  {
   "cell_type": "code",
   "execution_count": 41,
   "id": "fb0d420c",
   "metadata": {},
   "outputs": [],
   "source": [
    "df2_cat['Machine Name LE'] = LE.fit_transform(df2_cat['Machine Name'])"
   ]
  },
  {
   "cell_type": "code",
   "execution_count": 42,
   "id": "dc3e7053",
   "metadata": {},
   "outputs": [],
   "source": [
    "dummy_var = df2_cat.drop(['Machine Name'],axis=1).copy()"
   ]
  },
  {
   "cell_type": "markdown",
   "id": "e5484075",
   "metadata": {},
   "source": [
    "#### concatenate numerical variable and dummy encode variable"
   ]
  },
  {
   "cell_type": "code",
   "execution_count": 43,
   "id": "4c43a974",
   "metadata": {},
   "outputs": [
    {
     "data": {
      "text/html": [
       "<div>\n",
       "<style scoped>\n",
       "    .dataframe tbody tr th:only-of-type {\n",
       "        vertical-align: middle;\n",
       "    }\n",
       "\n",
       "    .dataframe tbody tr th {\n",
       "        vertical-align: top;\n",
       "    }\n",
       "\n",
       "    .dataframe thead th {\n",
       "        text-align: right;\n",
       "    }\n",
       "</style>\n",
       "<table border=\"1\" class=\"dataframe\">\n",
       "  <thead>\n",
       "    <tr style=\"text-align: right;\">\n",
       "      <th></th>\n",
       "      <th>Lifetime</th>\n",
       "      <th>Temperature</th>\n",
       "      <th>Voltage</th>\n",
       "      <th>Current</th>\n",
       "      <th>Humidity</th>\n",
       "      <th>Vibration - X</th>\n",
       "      <th>Vibration  Y</th>\n",
       "      <th>Vibration  Z</th>\n",
       "      <th>Machine Name LE</th>\n",
       "    </tr>\n",
       "  </thead>\n",
       "  <tbody>\n",
       "    <tr>\n",
       "      <th>0</th>\n",
       "      <td>56</td>\n",
       "      <td>30.000000</td>\n",
       "      <td>230.000000</td>\n",
       "      <td>1.500000</td>\n",
       "      <td>28.000000</td>\n",
       "      <td>0.404000</td>\n",
       "      <td>0.956000</td>\n",
       "      <td>9.125000</td>\n",
       "      <td>0</td>\n",
       "    </tr>\n",
       "    <tr>\n",
       "      <th>1</th>\n",
       "      <td>81</td>\n",
       "      <td>30.000000</td>\n",
       "      <td>230.000000</td>\n",
       "      <td>1.500000</td>\n",
       "      <td>28.000000</td>\n",
       "      <td>1.004000</td>\n",
       "      <td>1.143000</td>\n",
       "      <td>9.125000</td>\n",
       "      <td>1</td>\n",
       "    </tr>\n",
       "    <tr>\n",
       "      <th>2</th>\n",
       "      <td>60</td>\n",
       "      <td>30.000000</td>\n",
       "      <td>230.000000</td>\n",
       "      <td>1.500000</td>\n",
       "      <td>34.000000</td>\n",
       "      <td>0.469000</td>\n",
       "      <td>1.290000</td>\n",
       "      <td>9.121000</td>\n",
       "      <td>0</td>\n",
       "    </tr>\n",
       "    <tr>\n",
       "      <th>3</th>\n",
       "      <td>86</td>\n",
       "      <td>30.000000</td>\n",
       "      <td>230.000000</td>\n",
       "      <td>1.500000</td>\n",
       "      <td>34.000000</td>\n",
       "      <td>0.373000</td>\n",
       "      <td>1.112000</td>\n",
       "      <td>9.137000</td>\n",
       "      <td>1</td>\n",
       "    </tr>\n",
       "    <tr>\n",
       "      <th>4</th>\n",
       "      <td>30</td>\n",
       "      <td>30.000000</td>\n",
       "      <td>230.000000</td>\n",
       "      <td>1.500000</td>\n",
       "      <td>31.000000</td>\n",
       "      <td>0.461000</td>\n",
       "      <td>1.282000</td>\n",
       "      <td>9.121000</td>\n",
       "      <td>1</td>\n",
       "    </tr>\n",
       "  </tbody>\n",
       "</table>\n",
       "</div>"
      ],
      "text/plain": [
       "   Lifetime  Temperature    Voltage  Current  Humidity  Vibration - X  \\\n",
       "0        56    30.000000 230.000000 1.500000 28.000000       0.404000   \n",
       "1        81    30.000000 230.000000 1.500000 28.000000       1.004000   \n",
       "2        60    30.000000 230.000000 1.500000 34.000000       0.469000   \n",
       "3        86    30.000000 230.000000 1.500000 34.000000       0.373000   \n",
       "4        30    30.000000 230.000000 1.500000 31.000000       0.461000   \n",
       "\n",
       "   Vibration  Y  Vibration  Z  Machine Name LE  \n",
       "0      0.956000      9.125000                0  \n",
       "1      1.143000      9.125000                1  \n",
       "2      1.290000      9.121000                0  \n",
       "3      1.112000      9.137000                1  \n",
       "4      1.282000      9.121000                1  "
      ]
     },
     "execution_count": 43,
     "metadata": {},
     "output_type": "execute_result"
    }
   ],
   "source": [
    "X = pd.concat([df2_num,dummy_var],axis=1)\n",
    "X.head()"
   ]
  },
  {
   "cell_type": "markdown",
   "id": "803d1958",
   "metadata": {},
   "source": [
    "# Train-Test split"
   ]
  },
  {
   "cell_type": "code",
   "execution_count": 44,
   "id": "49284d0c",
   "metadata": {},
   "outputs": [
    {
     "name": "stdout",
     "output_type": "stream",
     "text": [
      "X train (878, 9)\n",
      "Y train (878,)\n",
      "X test (377, 9)\n",
      "Y test (377,)\n"
     ]
    }
   ],
   "source": [
    "X_train,X_test,y_train,y_test = train_test_split(X,df2_target,test_size=0.3,random_state=10)\n",
    "print(\"X train\",X_train.shape)\n",
    "print(\"Y train\",y_train.shape)\n",
    "print(\"X test\",X_test.shape)\n",
    "print(\"Y test\",y_test.shape)"
   ]
  },
  {
   "cell_type": "code",
   "execution_count": 45,
   "id": "ec2f5d2f",
   "metadata": {},
   "outputs": [],
   "source": [
    "decision_tree_classification = DecisionTreeClassifier(criterion='entropy',random_state=10)"
   ]
  },
  {
   "cell_type": "code",
   "execution_count": 46,
   "id": "9cd9a34f",
   "metadata": {},
   "outputs": [],
   "source": [
    "decision_tree = decision_tree_classification.fit(X_train,y_train)"
   ]
  },
  {
   "cell_type": "markdown",
   "id": "097fa87c",
   "metadata": {},
   "source": [
    "# calculate the metrics for train and test set"
   ]
  },
  {
   "cell_type": "code",
   "execution_count": 47,
   "id": "24603ece",
   "metadata": {},
   "outputs": [],
   "source": [
    "def get_train_report(model):\n",
    "    pred_train = model.predict(X_train)\n",
    "    return(classification_report(y_train,pred_train))\n",
    "\n",
    "def get_test_report(model):\n",
    "    pred_test = model.predict(X_test)\n",
    "    return(classification_report(y_test,pred_test))"
   ]
  },
  {
   "cell_type": "markdown",
   "id": "8931e4a7",
   "metadata": {},
   "source": [
    "#### Calculate performance measure on train and test set"
   ]
  },
  {
   "cell_type": "code",
   "execution_count": 48,
   "id": "cb5992d3",
   "metadata": {},
   "outputs": [
    {
     "name": "stdout",
     "output_type": "stream",
     "text": [
      "              precision    recall  f1-score   support\n",
      "\n",
      "           0       1.00      1.00      1.00       344\n",
      "           1       1.00      1.00      1.00       534\n",
      "\n",
      "    accuracy                           1.00       878\n",
      "   macro avg       1.00      1.00      1.00       878\n",
      "weighted avg       1.00      1.00      1.00       878\n",
      "\n"
     ]
    }
   ],
   "source": [
    "print(get_train_report(decision_tree))"
   ]
  },
  {
   "cell_type": "code",
   "execution_count": 49,
   "id": "67c64a4c",
   "metadata": {},
   "outputs": [
    {
     "name": "stdout",
     "output_type": "stream",
     "text": [
      "              precision    recall  f1-score   support\n",
      "\n",
      "           0       1.00      1.00      1.00       134\n",
      "           1       1.00      1.00      1.00       243\n",
      "\n",
      "    accuracy                           1.00       377\n",
      "   macro avg       1.00      1.00      1.00       377\n",
      "weighted avg       1.00      1.00      1.00       377\n",
      "\n"
     ]
    }
   ],
   "source": [
    "print(get_test_report(decision_tree))"
   ]
  },
  {
   "cell_type": "code",
   "execution_count": 50,
   "id": "5d9f5930",
   "metadata": {},
   "outputs": [],
   "source": [
    "y_pred_decision_tree = decision_tree.predict(X_test)"
   ]
  },
  {
   "cell_type": "code",
   "execution_count": 51,
   "id": "5309531f",
   "metadata": {},
   "outputs": [
    {
     "data": {
      "text/plain": [
       "array([1, 1, 1, 0, 1], dtype=int64)"
      ]
     },
     "execution_count": 51,
     "metadata": {},
     "output_type": "execute_result"
    }
   ],
   "source": [
    "y_pred_decision_tree[0:5]"
   ]
  },
  {
   "cell_type": "code",
   "execution_count": 52,
   "id": "404de7c0",
   "metadata": {},
   "outputs": [],
   "source": [
    "Precision = precision_score(y_test,y_pred_decision_tree)\n",
    "Recall =    recall_score(y_test,y_pred_decision_tree)\n",
    "Accuracy =  accuracy_score(y_test,y_pred_decision_tree)"
   ]
  },
  {
   "cell_type": "code",
   "execution_count": 53,
   "id": "06e18fbd",
   "metadata": {},
   "outputs": [
    {
     "name": "stdout",
     "output_type": "stream",
     "text": [
      "Precision: 1.0\n",
      "Recall: 1.0\n",
      "Accuracy: 1.0\n"
     ]
    }
   ],
   "source": [
    "print(\"Precision:\",Precision)\n",
    "print(\"Recall:\",Recall)\n",
    "print(\"Accuracy:\",Accuracy)"
   ]
  },
  {
   "cell_type": "markdown",
   "id": "57afa286",
   "metadata": {},
   "source": [
    "# Identify the important features"
   ]
  },
  {
   "cell_type": "code",
   "execution_count": 54,
   "id": "5f69f87a",
   "metadata": {},
   "outputs": [
    {
     "data": {
      "image/png": "[encoded data removed]",
      "text/plain": [
       "<Figure size 864x432 with 1 Axes>"
      ]
     },
     "metadata": {
      "needs_background": "light"
     },
     "output_type": "display_data"
    }
   ],
   "source": [
    "important_features = pd.DataFrame({'Features':X_train.columns,\n",
    "                                  'Importance':decision_tree.feature_importances_})\n",
    "important_features = important_features.sort_values('Importance',ascending=False)\n",
    "\n",
    "sns.barplot(x='Importance',y='Features',data=important_features)\n",
    "plt.title('Feature Importance',fontsize=15)\n",
    "plt.xlabel('Importance',fontsize=12)\n",
    "plt.ylabel('Features',fontsize=12)\n",
    "plt.show()"
   ]
  },
  {
   "cell_type": "code",
   "execution_count": null,
   "id": "191b5c0b",
   "metadata": {},
   "outputs": [],
   "source": []
  }
 ],
 "metadata": {
  "kernelspec": {
   "display_name": "Python 3 (ipykernel)",
   "language": "python",
   "name": "python3"
  },
  "language_info": {
   "codemirror_mode": {
    "name": "ipython",
    "version": 3
   },
   "file_extension": ".py",
   "mimetype": "text/x-python",
   "name": "python",
   "nbconvert_exporter": "python",
   "pygments_lexer": "ipython3",
   "version": "3.9.7"
  }
 },
 "nbformat": 4,
 "nbformat_minor": 5
}
