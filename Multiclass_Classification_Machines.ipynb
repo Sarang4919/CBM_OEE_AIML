{
 "cells": [
  {
   "cell_type": "code",
   "execution_count": 1,
   "id": "b3fccf50",
   "metadata": {},
   "outputs": [],
   "source": [
    "#import the required libraries\n",
    "import pandas as pd\n",
    "import numpy as np\n",
    "import matplotlib.pyplot as plt\n",
    "import seaborn as sns\n",
    "import warnings\n",
    "warnings.filterwarnings('ignore')"
   ]
  },
  {
   "cell_type": "code",
   "execution_count": 2,
   "id": "eebc9174",
   "metadata": {},
   "outputs": [
    {
     "data": {
      "text/html": [
       "<div>\n",
       "<style scoped>\n",
       "    .dataframe tbody tr th:only-of-type {\n",
       "        vertical-align: middle;\n",
       "    }\n",
       "\n",
       "    .dataframe tbody tr th {\n",
       "        vertical-align: top;\n",
       "    }\n",
       "\n",
       "    .dataframe thead th {\n",
       "        text-align: right;\n",
       "    }\n",
       "</style>\n",
       "<table border=\"1\" class=\"dataframe\">\n",
       "  <thead>\n",
       "    <tr style=\"text-align: right;\">\n",
       "      <th></th>\n",
       "      <th>Lifetime</th>\n",
       "      <th>Broken</th>\n",
       "      <th>Temperature</th>\n",
       "      <th>Voltage</th>\n",
       "      <th>Current</th>\n",
       "      <th>Humidity</th>\n",
       "      <th>Vibration - X</th>\n",
       "      <th>Vibration  Y</th>\n",
       "      <th>Vibration  Z</th>\n",
       "      <th>Machine Name</th>\n",
       "      <th>Machine ID</th>\n",
       "      <th>Failure Model</th>\n",
       "      <th>Responsible Failure Cause</th>\n",
       "    </tr>\n",
       "  </thead>\n",
       "  <tbody>\n",
       "    <tr>\n",
       "      <th>0</th>\n",
       "      <td>56</td>\n",
       "      <td>1</td>\n",
       "      <td>30.0</td>\n",
       "      <td>230.0</td>\n",
       "      <td>1.5</td>\n",
       "      <td>28.0</td>\n",
       "      <td>0.404</td>\n",
       "      <td>0.956</td>\n",
       "      <td>9.125</td>\n",
       "      <td>CNC Turning -1</td>\n",
       "      <td>20210045</td>\n",
       "      <td>Vibration Model</td>\n",
       "      <td>Y vibration is lower than Rated Y vibration</td>\n",
       "    </tr>\n",
       "    <tr>\n",
       "      <th>1</th>\n",
       "      <td>81</td>\n",
       "      <td>1</td>\n",
       "      <td>30.0</td>\n",
       "      <td>230.0</td>\n",
       "      <td>1.5</td>\n",
       "      <td>28.0</td>\n",
       "      <td>1.004</td>\n",
       "      <td>1.143</td>\n",
       "      <td>9.125</td>\n",
       "      <td>CNC Turning -2</td>\n",
       "      <td>20210046</td>\n",
       "      <td>Lifetime Model</td>\n",
       "      <td>Exceeded Motor Running Hours as respective Man...</td>\n",
       "    </tr>\n",
       "    <tr>\n",
       "      <th>2</th>\n",
       "      <td>60</td>\n",
       "      <td>0</td>\n",
       "      <td>30.0</td>\n",
       "      <td>230.0</td>\n",
       "      <td>1.5</td>\n",
       "      <td>34.0</td>\n",
       "      <td>0.469</td>\n",
       "      <td>1.290</td>\n",
       "      <td>9.121</td>\n",
       "      <td>CNC Turning -1</td>\n",
       "      <td>20210045</td>\n",
       "      <td>Healthy State</td>\n",
       "      <td>NaN</td>\n",
       "    </tr>\n",
       "    <tr>\n",
       "      <th>3</th>\n",
       "      <td>86</td>\n",
       "      <td>1</td>\n",
       "      <td>30.0</td>\n",
       "      <td>230.0</td>\n",
       "      <td>1.5</td>\n",
       "      <td>34.0</td>\n",
       "      <td>0.373</td>\n",
       "      <td>1.112</td>\n",
       "      <td>9.137</td>\n",
       "      <td>CNC Turning -2</td>\n",
       "      <td>20210046</td>\n",
       "      <td>Lifetime Model</td>\n",
       "      <td>Exceeded Motor Running Hours as respective Man...</td>\n",
       "    </tr>\n",
       "    <tr>\n",
       "      <th>4</th>\n",
       "      <td>30</td>\n",
       "      <td>0</td>\n",
       "      <td>30.0</td>\n",
       "      <td>230.0</td>\n",
       "      <td>1.5</td>\n",
       "      <td>31.0</td>\n",
       "      <td>0.461</td>\n",
       "      <td>1.282</td>\n",
       "      <td>9.121</td>\n",
       "      <td>CNC Turning -2</td>\n",
       "      <td>20210045</td>\n",
       "      <td>Healthy State</td>\n",
       "      <td>NaN</td>\n",
       "    </tr>\n",
       "  </tbody>\n",
       "</table>\n",
       "</div>"
      ],
      "text/plain": [
       "   Lifetime  Broken  Temperature  Voltage  Current  Humidity  Vibration - X  \\\n",
       "0        56       1         30.0    230.0      1.5      28.0          0.404   \n",
       "1        81       1         30.0    230.0      1.5      28.0          1.004   \n",
       "2        60       0         30.0    230.0      1.5      34.0          0.469   \n",
       "3        86       1         30.0    230.0      1.5      34.0          0.373   \n",
       "4        30       0         30.0    230.0      1.5      31.0          0.461   \n",
       "\n",
       "   Vibration  Y  Vibration  Z    Machine Name  Machine ID    Failure Model  \\\n",
       "0         0.956         9.125  CNC Turning -1    20210045  Vibration Model   \n",
       "1         1.143         9.125  CNC Turning -2    20210046   Lifetime Model   \n",
       "2         1.290         9.121  CNC Turning -1    20210045    Healthy State   \n",
       "3         1.112         9.137  CNC Turning -2    20210046   Lifetime Model   \n",
       "4         1.282         9.121  CNC Turning -2    20210045    Healthy State   \n",
       "\n",
       "                           Responsible Failure Cause  \n",
       "0        Y vibration is lower than Rated Y vibration  \n",
       "1  Exceeded Motor Running Hours as respective Man...  \n",
       "2                                                NaN  \n",
       "3  Exceeded Motor Running Hours as respective Man...  \n",
       "4                                                NaN  "
      ]
     },
     "execution_count": 2,
     "metadata": {},
     "output_type": "execute_result"
    }
   ],
   "source": [
    "# read the data\n",
    "\n",
    "df = pd.read_excel('DATA_CBM_26_04_2022_rev02.xlsx',sheet_name = 'DATA_CBM_Lifetime Complete')\n",
    "df.head()"
   ]
  },
  {
   "cell_type": "markdown",
   "id": "196c4d8e",
   "metadata": {},
   "source": [
    "# Data Preparation"
   ]
  },
  {
   "cell_type": "code",
   "execution_count": 3,
   "id": "8ef58e7e",
   "metadata": {},
   "outputs": [
    {
     "data": {
      "text/plain": [
       "(1255, 13)"
      ]
     },
     "execution_count": 3,
     "metadata": {},
     "output_type": "execute_result"
    }
   ],
   "source": [
    "df.shape"
   ]
  },
  {
   "cell_type": "code",
   "execution_count": 4,
   "id": "39e65c5e",
   "metadata": {},
   "outputs": [
    {
     "name": "stdout",
     "output_type": "stream",
     "text": [
      "<class 'pandas.core.frame.DataFrame'>\n",
      "RangeIndex: 1255 entries, 0 to 1254\n",
      "Data columns (total 13 columns):\n",
      " #   Column                     Non-Null Count  Dtype  \n",
      "---  ------                     --------------  -----  \n",
      " 0   Lifetime                   1255 non-null   int64  \n",
      " 1   Broken                     1255 non-null   int64  \n",
      " 2   Temperature                1255 non-null   float64\n",
      " 3   Voltage                    1255 non-null   float64\n",
      " 4   Current                    1255 non-null   float64\n",
      " 5   Humidity                   1255 non-null   float64\n",
      " 6   Vibration - X              1255 non-null   float64\n",
      " 7   Vibration  Y               1255 non-null   float64\n",
      " 8   Vibration  Z               1255 non-null   float64\n",
      " 9   Machine Name               1255 non-null   object \n",
      " 10  Machine ID                 1255 non-null   int64  \n",
      " 11  Failure Model              1255 non-null   object \n",
      " 12  Responsible Failure Cause  777 non-null    object \n",
      "dtypes: float64(7), int64(3), object(3)\n",
      "memory usage: 127.6+ KB\n"
     ]
    }
   ],
   "source": [
    "df.info()"
   ]
  },
  {
   "cell_type": "code",
   "execution_count": 5,
   "id": "1f5a1124",
   "metadata": {},
   "outputs": [
    {
     "data": {
      "text/html": [
       "<div>\n",
       "<style scoped>\n",
       "    .dataframe tbody tr th:only-of-type {\n",
       "        vertical-align: middle;\n",
       "    }\n",
       "\n",
       "    .dataframe tbody tr th {\n",
       "        vertical-align: top;\n",
       "    }\n",
       "\n",
       "    .dataframe thead th {\n",
       "        text-align: right;\n",
       "    }\n",
       "</style>\n",
       "<table border=\"1\" class=\"dataframe\">\n",
       "  <thead>\n",
       "    <tr style=\"text-align: right;\">\n",
       "      <th></th>\n",
       "      <th>Lifetime</th>\n",
       "      <th>Temperature</th>\n",
       "      <th>Voltage</th>\n",
       "      <th>Current</th>\n",
       "      <th>Humidity</th>\n",
       "      <th>Vibration - X</th>\n",
       "      <th>Vibration  Y</th>\n",
       "      <th>Vibration  Z</th>\n",
       "      <th>Machine Name</th>\n",
       "      <th>Failure Model</th>\n",
       "    </tr>\n",
       "  </thead>\n",
       "  <tbody>\n",
       "    <tr>\n",
       "      <th>0</th>\n",
       "      <td>56</td>\n",
       "      <td>30.0</td>\n",
       "      <td>230.0</td>\n",
       "      <td>1.5</td>\n",
       "      <td>28.0</td>\n",
       "      <td>0.404</td>\n",
       "      <td>0.956</td>\n",
       "      <td>9.125</td>\n",
       "      <td>CNC Turning -1</td>\n",
       "      <td>Vibration Model</td>\n",
       "    </tr>\n",
       "    <tr>\n",
       "      <th>1</th>\n",
       "      <td>81</td>\n",
       "      <td>30.0</td>\n",
       "      <td>230.0</td>\n",
       "      <td>1.5</td>\n",
       "      <td>28.0</td>\n",
       "      <td>1.004</td>\n",
       "      <td>1.143</td>\n",
       "      <td>9.125</td>\n",
       "      <td>CNC Turning -2</td>\n",
       "      <td>Lifetime Model</td>\n",
       "    </tr>\n",
       "    <tr>\n",
       "      <th>2</th>\n",
       "      <td>60</td>\n",
       "      <td>30.0</td>\n",
       "      <td>230.0</td>\n",
       "      <td>1.5</td>\n",
       "      <td>34.0</td>\n",
       "      <td>0.469</td>\n",
       "      <td>1.290</td>\n",
       "      <td>9.121</td>\n",
       "      <td>CNC Turning -1</td>\n",
       "      <td>Healthy State</td>\n",
       "    </tr>\n",
       "    <tr>\n",
       "      <th>3</th>\n",
       "      <td>86</td>\n",
       "      <td>30.0</td>\n",
       "      <td>230.0</td>\n",
       "      <td>1.5</td>\n",
       "      <td>34.0</td>\n",
       "      <td>0.373</td>\n",
       "      <td>1.112</td>\n",
       "      <td>9.137</td>\n",
       "      <td>CNC Turning -2</td>\n",
       "      <td>Lifetime Model</td>\n",
       "    </tr>\n",
       "    <tr>\n",
       "      <th>4</th>\n",
       "      <td>30</td>\n",
       "      <td>30.0</td>\n",
       "      <td>230.0</td>\n",
       "      <td>1.5</td>\n",
       "      <td>31.0</td>\n",
       "      <td>0.461</td>\n",
       "      <td>1.282</td>\n",
       "      <td>9.121</td>\n",
       "      <td>CNC Turning -2</td>\n",
       "      <td>Healthy State</td>\n",
       "    </tr>\n",
       "    <tr>\n",
       "      <th>...</th>\n",
       "      <td>...</td>\n",
       "      <td>...</td>\n",
       "      <td>...</td>\n",
       "      <td>...</td>\n",
       "      <td>...</td>\n",
       "      <td>...</td>\n",
       "      <td>...</td>\n",
       "      <td>...</td>\n",
       "      <td>...</td>\n",
       "      <td>...</td>\n",
       "    </tr>\n",
       "    <tr>\n",
       "      <th>1250</th>\n",
       "      <td>75</td>\n",
       "      <td>26.0</td>\n",
       "      <td>226.0</td>\n",
       "      <td>1.6</td>\n",
       "      <td>36.0</td>\n",
       "      <td>0.223</td>\n",
       "      <td>1.159</td>\n",
       "      <td>8.713</td>\n",
       "      <td>CNC Turning -1</td>\n",
       "      <td>Vibration Model</td>\n",
       "    </tr>\n",
       "    <tr>\n",
       "      <th>1251</th>\n",
       "      <td>21</td>\n",
       "      <td>26.0</td>\n",
       "      <td>226.0</td>\n",
       "      <td>1.0</td>\n",
       "      <td>30.0</td>\n",
       "      <td>0.080</td>\n",
       "      <td>1.178</td>\n",
       "      <td>9.148</td>\n",
       "      <td>CNC Turning -1</td>\n",
       "      <td>Vibration Model</td>\n",
       "    </tr>\n",
       "    <tr>\n",
       "      <th>1252</th>\n",
       "      <td>45</td>\n",
       "      <td>26.0</td>\n",
       "      <td>226.0</td>\n",
       "      <td>1.6</td>\n",
       "      <td>30.0</td>\n",
       "      <td>0.080</td>\n",
       "      <td>1.186</td>\n",
       "      <td>9.121</td>\n",
       "      <td>CNC Turning -1</td>\n",
       "      <td>Vibration Model</td>\n",
       "    </tr>\n",
       "    <tr>\n",
       "      <th>1253</th>\n",
       "      <td>74</td>\n",
       "      <td>26.0</td>\n",
       "      <td>226.0</td>\n",
       "      <td>1.0</td>\n",
       "      <td>30.0</td>\n",
       "      <td>0.212</td>\n",
       "      <td>1.355</td>\n",
       "      <td>9.125</td>\n",
       "      <td>CNC Turning -1</td>\n",
       "      <td>Healthy State</td>\n",
       "    </tr>\n",
       "    <tr>\n",
       "      <th>1254</th>\n",
       "      <td>78</td>\n",
       "      <td>26.0</td>\n",
       "      <td>226.0</td>\n",
       "      <td>1.0</td>\n",
       "      <td>30.0</td>\n",
       "      <td>0.088</td>\n",
       "      <td>1.151</td>\n",
       "      <td>9.160</td>\n",
       "      <td>CNC Turning -1</td>\n",
       "      <td>Vibration Model</td>\n",
       "    </tr>\n",
       "  </tbody>\n",
       "</table>\n",
       "<p>1255 rows × 10 columns</p>\n",
       "</div>"
      ],
      "text/plain": [
       "      Lifetime  Temperature  Voltage  Current  Humidity  Vibration - X  \\\n",
       "0           56         30.0    230.0      1.5      28.0          0.404   \n",
       "1           81         30.0    230.0      1.5      28.0          1.004   \n",
       "2           60         30.0    230.0      1.5      34.0          0.469   \n",
       "3           86         30.0    230.0      1.5      34.0          0.373   \n",
       "4           30         30.0    230.0      1.5      31.0          0.461   \n",
       "...        ...          ...      ...      ...       ...            ...   \n",
       "1250        75         26.0    226.0      1.6      36.0          0.223   \n",
       "1251        21         26.0    226.0      1.0      30.0          0.080   \n",
       "1252        45         26.0    226.0      1.6      30.0          0.080   \n",
       "1253        74         26.0    226.0      1.0      30.0          0.212   \n",
       "1254        78         26.0    226.0      1.0      30.0          0.088   \n",
       "\n",
       "      Vibration  Y  Vibration  Z    Machine Name    Failure Model  \n",
       "0            0.956         9.125  CNC Turning -1  Vibration Model  \n",
       "1            1.143         9.125  CNC Turning -2   Lifetime Model  \n",
       "2            1.290         9.121  CNC Turning -1    Healthy State  \n",
       "3            1.112         9.137  CNC Turning -2   Lifetime Model  \n",
       "4            1.282         9.121  CNC Turning -2    Healthy State  \n",
       "...            ...           ...             ...              ...  \n",
       "1250         1.159         8.713  CNC Turning -1  Vibration Model  \n",
       "1251         1.178         9.148  CNC Turning -1  Vibration Model  \n",
       "1252         1.186         9.121  CNC Turning -1  Vibration Model  \n",
       "1253         1.355         9.125  CNC Turning -1    Healthy State  \n",
       "1254         1.151         9.160  CNC Turning -1  Vibration Model  \n",
       "\n",
       "[1255 rows x 10 columns]"
      ]
     },
     "execution_count": 5,
     "metadata": {},
     "output_type": "execute_result"
    }
   ],
   "source": [
    "# Remove insignificant features machineID, Broken, Responsible Failure Cause from the data\n",
    "\n",
    "df = df.drop(['Machine ID','Responsible Failure Cause','Broken'],axis=1)\n",
    "df"
   ]
  },
  {
   "cell_type": "markdown",
   "id": "5808207b",
   "metadata": {},
   "source": [
    "# Distribution of Variables\n"
   ]
  },
  {
   "cell_type": "code",
   "execution_count": 6,
   "id": "c8f15b9e",
   "metadata": {},
   "outputs": [
    {
     "data": {
      "image/png": "[encoded data removed]",
      "text/plain": [
       "<Figure size 432x288 with 9 Axes>"
      ]
     },
     "metadata": {
      "needs_background": "light"
     },
     "output_type": "display_data"
    },
    {
     "name": "stdout",
     "output_type": "stream",
     "text": [
      "Skewness\n"
     ]
    },
    {
     "data": {
      "text/plain": [
       "Lifetime        -0.558462\n",
       "Temperature     -0.472320\n",
       "Voltage         -2.475948\n",
       "Current         -0.225235\n",
       "Humidity         0.242820\n",
       "Vibration - X    0.590071\n",
       "Vibration  Y    -1.343317\n",
       "Vibration  Z     3.181236\n",
       "dtype: float64"
      ]
     },
     "execution_count": 6,
     "metadata": {},
     "output_type": "execute_result"
    }
   ],
   "source": [
    "#Distribution of numeric independent variables\n",
    "\n",
    "df.drop('Failure Model',axis=1).hist()\n",
    "plt.tight_layout()\n",
    "plt.show()\n",
    "print('Skewness')\n",
    "df.drop('Failure Model',axis=1).skew()"
   ]
  },
  {
   "cell_type": "markdown",
   "id": "5abc7dbe",
   "metadata": {},
   "source": [
    "Interpretation: The above plot indicates that all features except{'Voltage' and 'Vibration Z'} are nearly normally distributed."
   ]
  },
  {
   "cell_type": "code",
   "execution_count": 7,
   "id": "aa113976",
   "metadata": {},
   "outputs": [],
   "source": [
    "#Distribution of categorical Independent Variables\n",
    "\n",
    "def cat_dist(data):\n",
    "    col = ['Machine Name','Failure Model']\n",
    "    for i in col:\n",
    "        plt.subplot(2,2,1)\n",
    "        sns.countplot(df[i])\n",
    "        plt.title(f'Count Plot for {i}',fontsize=15)\n",
    "        plt.xlabel(i,fontsize=12)\n",
    "        plt.ylabel('Count',fontsize=18)\n",
    "        plt.tight_layout()\n",
    "        plt.show()"
   ]
  },
  {
   "cell_type": "code",
   "execution_count": 8,
   "id": "413e2dda",
   "metadata": {},
   "outputs": [
    {
     "data": {
      "image/png": "[encoded data removed]",
      "text/plain": [
       "<Figure size 432x288 with 1 Axes>"
      ]
     },
     "metadata": {
      "needs_background": "light"
     },
     "output_type": "display_data"
    },
    {
     "data": {
      "image/png": "[encoded data removed]",
      "text/plain": [
       "<Figure size 432x288 with 1 Axes>"
      ]
     },
     "metadata": {
      "needs_background": "light"
     },
     "output_type": "display_data"
    }
   ],
   "source": [
    "cat_dist(df)"
   ]
  },
  {
   "cell_type": "markdown",
   "id": "bb241f97",
   "metadata": {},
   "source": [
    "#### Interpretation: 1) CNC Turning-1 is slightly more than CNC Turning-2 \n",
    "####                 2) Helathy state presence is highest.\n",
    "####                 3) Machine mostly broken by vibrational followed by Thermal and Electrical."
   ]
  },
  {
   "cell_type": "code",
   "execution_count": 9,
   "id": "05edc870",
   "metadata": {},
   "outputs": [
    {
     "data": {
      "image/png": "[encoded data removed]",
      "text/plain": [
       "<Figure size 432x288 with 1 Axes>"
      ]
     },
     "metadata": {
      "needs_background": "light"
     },
     "output_type": "display_data"
    }
   ],
   "source": [
    "# Distribution of Dependent variable\n",
    "\n",
    "df_target = df['Failure Model'].copy()\n",
    "df_target.value_counts()\n",
    "\n",
    "sns.countplot(x=df_target)\n",
    "\n",
    "plt.title('Count Plot for target variable(Failure Mode)',fontsize=15)\n",
    "plt.xlabel('Target Variable',fontsize=12)\n",
    "plt.ylabel('Count',fontsize=12)\n",
    "plt.show()"
   ]
  },
  {
   "cell_type": "code",
   "execution_count": 10,
   "id": "aaa0fc3e",
   "metadata": {},
   "outputs": [],
   "source": [
    "# To find missing values"
   ]
  },
  {
   "cell_type": "code",
   "execution_count": 11,
   "id": "a9c524bd",
   "metadata": {},
   "outputs": [
    {
     "data": {
      "text/plain": [
       "Lifetime         0\n",
       "Temperature      0\n",
       "Voltage          0\n",
       "Current          0\n",
       "Humidity         0\n",
       "Vibration - X    0\n",
       "Vibration  Y     0\n",
       "Vibration  Z     0\n",
       "Machine Name     0\n",
       "Failure Model    0\n",
       "dtype: int64"
      ]
     },
     "execution_count": 11,
     "metadata": {},
     "output_type": "execute_result"
    }
   ],
   "source": [
    "df.isnull().sum()"
   ]
  },
  {
   "cell_type": "code",
   "execution_count": 12,
   "id": "26bc2df1",
   "metadata": {},
   "outputs": [
    {
     "data": {
      "text/plain": [
       "Index(['Machine Name', 'Failure Model'], dtype='object')"
      ]
     },
     "execution_count": 12,
     "metadata": {},
     "output_type": "execute_result"
    }
   ],
   "source": [
    "df1 = df.select_dtypes(include=object)\n",
    "df1.columns"
   ]
  },
  {
   "cell_type": "code",
   "execution_count": 13,
   "id": "7a3e7272",
   "metadata": {},
   "outputs": [],
   "source": [
    "from sklearn.preprocessing import LabelEncoder"
   ]
  },
  {
   "cell_type": "code",
   "execution_count": 14,
   "id": "cfa92d7b",
   "metadata": {},
   "outputs": [],
   "source": [
    "LE = LabelEncoder()"
   ]
  },
  {
   "cell_type": "code",
   "execution_count": 15,
   "id": "4c75c959",
   "metadata": {},
   "outputs": [],
   "source": [
    "df1['Machine Name'] = LE.fit_transform(df1['Machine Name'])"
   ]
  },
  {
   "cell_type": "code",
   "execution_count": 16,
   "id": "8eaede4c",
   "metadata": {},
   "outputs": [],
   "source": [
    "df1['Failure Model'] = LE.fit_transform(df1['Failure Model'])"
   ]
  },
  {
   "cell_type": "code",
   "execution_count": 17,
   "id": "61acc924",
   "metadata": {},
   "outputs": [
    {
     "data": {
      "text/html": [
       "<div>\n",
       "<style scoped>\n",
       "    .dataframe tbody tr th:only-of-type {\n",
       "        vertical-align: middle;\n",
       "    }\n",
       "\n",
       "    .dataframe tbody tr th {\n",
       "        vertical-align: top;\n",
       "    }\n",
       "\n",
       "    .dataframe thead th {\n",
       "        text-align: right;\n",
       "    }\n",
       "</style>\n",
       "<table border=\"1\" class=\"dataframe\">\n",
       "  <thead>\n",
       "    <tr style=\"text-align: right;\">\n",
       "      <th></th>\n",
       "      <th>Machine Name</th>\n",
       "      <th>Failure Model</th>\n",
       "    </tr>\n",
       "  </thead>\n",
       "  <tbody>\n",
       "    <tr>\n",
       "      <th>0</th>\n",
       "      <td>0</td>\n",
       "      <td>4</td>\n",
       "    </tr>\n",
       "    <tr>\n",
       "      <th>1</th>\n",
       "      <td>1</td>\n",
       "      <td>2</td>\n",
       "    </tr>\n",
       "    <tr>\n",
       "      <th>2</th>\n",
       "      <td>0</td>\n",
       "      <td>1</td>\n",
       "    </tr>\n",
       "    <tr>\n",
       "      <th>3</th>\n",
       "      <td>1</td>\n",
       "      <td>2</td>\n",
       "    </tr>\n",
       "    <tr>\n",
       "      <th>4</th>\n",
       "      <td>1</td>\n",
       "      <td>1</td>\n",
       "    </tr>\n",
       "  </tbody>\n",
       "</table>\n",
       "</div>"
      ],
      "text/plain": [
       "   Machine Name  Failure Model\n",
       "0             0              4\n",
       "1             1              2\n",
       "2             0              1\n",
       "3             1              2\n",
       "4             1              1"
      ]
     },
     "execution_count": 17,
     "metadata": {},
     "output_type": "execute_result"
    }
   ],
   "source": [
    "df1.head()"
   ]
  },
  {
   "cell_type": "code",
   "execution_count": 18,
   "id": "4eb4705b",
   "metadata": {},
   "outputs": [],
   "source": [
    "df = df.drop(['Machine Name','Failure Model'],axis=1)"
   ]
  },
  {
   "cell_type": "code",
   "execution_count": 19,
   "id": "198b990f",
   "metadata": {},
   "outputs": [
    {
     "data": {
      "text/html": [
       "<div>\n",
       "<style scoped>\n",
       "    .dataframe tbody tr th:only-of-type {\n",
       "        vertical-align: middle;\n",
       "    }\n",
       "\n",
       "    .dataframe tbody tr th {\n",
       "        vertical-align: top;\n",
       "    }\n",
       "\n",
       "    .dataframe thead th {\n",
       "        text-align: right;\n",
       "    }\n",
       "</style>\n",
       "<table border=\"1\" class=\"dataframe\">\n",
       "  <thead>\n",
       "    <tr style=\"text-align: right;\">\n",
       "      <th></th>\n",
       "      <th>Lifetime</th>\n",
       "      <th>Temperature</th>\n",
       "      <th>Voltage</th>\n",
       "      <th>Current</th>\n",
       "      <th>Humidity</th>\n",
       "      <th>Vibration - X</th>\n",
       "      <th>Vibration  Y</th>\n",
       "      <th>Vibration  Z</th>\n",
       "      <th>Machine Name</th>\n",
       "      <th>Failure Model</th>\n",
       "    </tr>\n",
       "  </thead>\n",
       "  <tbody>\n",
       "    <tr>\n",
       "      <th>0</th>\n",
       "      <td>56</td>\n",
       "      <td>30.0</td>\n",
       "      <td>230.0</td>\n",
       "      <td>1.5</td>\n",
       "      <td>28.0</td>\n",
       "      <td>0.404</td>\n",
       "      <td>0.956</td>\n",
       "      <td>9.125</td>\n",
       "      <td>0</td>\n",
       "      <td>4</td>\n",
       "    </tr>\n",
       "    <tr>\n",
       "      <th>1</th>\n",
       "      <td>81</td>\n",
       "      <td>30.0</td>\n",
       "      <td>230.0</td>\n",
       "      <td>1.5</td>\n",
       "      <td>28.0</td>\n",
       "      <td>1.004</td>\n",
       "      <td>1.143</td>\n",
       "      <td>9.125</td>\n",
       "      <td>1</td>\n",
       "      <td>2</td>\n",
       "    </tr>\n",
       "    <tr>\n",
       "      <th>2</th>\n",
       "      <td>60</td>\n",
       "      <td>30.0</td>\n",
       "      <td>230.0</td>\n",
       "      <td>1.5</td>\n",
       "      <td>34.0</td>\n",
       "      <td>0.469</td>\n",
       "      <td>1.290</td>\n",
       "      <td>9.121</td>\n",
       "      <td>0</td>\n",
       "      <td>1</td>\n",
       "    </tr>\n",
       "    <tr>\n",
       "      <th>3</th>\n",
       "      <td>86</td>\n",
       "      <td>30.0</td>\n",
       "      <td>230.0</td>\n",
       "      <td>1.5</td>\n",
       "      <td>34.0</td>\n",
       "      <td>0.373</td>\n",
       "      <td>1.112</td>\n",
       "      <td>9.137</td>\n",
       "      <td>1</td>\n",
       "      <td>2</td>\n",
       "    </tr>\n",
       "    <tr>\n",
       "      <th>4</th>\n",
       "      <td>30</td>\n",
       "      <td>30.0</td>\n",
       "      <td>230.0</td>\n",
       "      <td>1.5</td>\n",
       "      <td>31.0</td>\n",
       "      <td>0.461</td>\n",
       "      <td>1.282</td>\n",
       "      <td>9.121</td>\n",
       "      <td>1</td>\n",
       "      <td>1</td>\n",
       "    </tr>\n",
       "    <tr>\n",
       "      <th>...</th>\n",
       "      <td>...</td>\n",
       "      <td>...</td>\n",
       "      <td>...</td>\n",
       "      <td>...</td>\n",
       "      <td>...</td>\n",
       "      <td>...</td>\n",
       "      <td>...</td>\n",
       "      <td>...</td>\n",
       "      <td>...</td>\n",
       "      <td>...</td>\n",
       "    </tr>\n",
       "    <tr>\n",
       "      <th>1250</th>\n",
       "      <td>75</td>\n",
       "      <td>26.0</td>\n",
       "      <td>226.0</td>\n",
       "      <td>1.6</td>\n",
       "      <td>36.0</td>\n",
       "      <td>0.223</td>\n",
       "      <td>1.159</td>\n",
       "      <td>8.713</td>\n",
       "      <td>0</td>\n",
       "      <td>4</td>\n",
       "    </tr>\n",
       "    <tr>\n",
       "      <th>1251</th>\n",
       "      <td>21</td>\n",
       "      <td>26.0</td>\n",
       "      <td>226.0</td>\n",
       "      <td>1.0</td>\n",
       "      <td>30.0</td>\n",
       "      <td>0.080</td>\n",
       "      <td>1.178</td>\n",
       "      <td>9.148</td>\n",
       "      <td>0</td>\n",
       "      <td>4</td>\n",
       "    </tr>\n",
       "    <tr>\n",
       "      <th>1252</th>\n",
       "      <td>45</td>\n",
       "      <td>26.0</td>\n",
       "      <td>226.0</td>\n",
       "      <td>1.6</td>\n",
       "      <td>30.0</td>\n",
       "      <td>0.080</td>\n",
       "      <td>1.186</td>\n",
       "      <td>9.121</td>\n",
       "      <td>0</td>\n",
       "      <td>4</td>\n",
       "    </tr>\n",
       "    <tr>\n",
       "      <th>1253</th>\n",
       "      <td>74</td>\n",
       "      <td>26.0</td>\n",
       "      <td>226.0</td>\n",
       "      <td>1.0</td>\n",
       "      <td>30.0</td>\n",
       "      <td>0.212</td>\n",
       "      <td>1.355</td>\n",
       "      <td>9.125</td>\n",
       "      <td>0</td>\n",
       "      <td>1</td>\n",
       "    </tr>\n",
       "    <tr>\n",
       "      <th>1254</th>\n",
       "      <td>78</td>\n",
       "      <td>26.0</td>\n",
       "      <td>226.0</td>\n",
       "      <td>1.0</td>\n",
       "      <td>30.0</td>\n",
       "      <td>0.088</td>\n",
       "      <td>1.151</td>\n",
       "      <td>9.160</td>\n",
       "      <td>0</td>\n",
       "      <td>4</td>\n",
       "    </tr>\n",
       "  </tbody>\n",
       "</table>\n",
       "<p>1255 rows × 10 columns</p>\n",
       "</div>"
      ],
      "text/plain": [
       "      Lifetime  Temperature  Voltage  Current  Humidity  Vibration - X  \\\n",
       "0           56         30.0    230.0      1.5      28.0          0.404   \n",
       "1           81         30.0    230.0      1.5      28.0          1.004   \n",
       "2           60         30.0    230.0      1.5      34.0          0.469   \n",
       "3           86         30.0    230.0      1.5      34.0          0.373   \n",
       "4           30         30.0    230.0      1.5      31.0          0.461   \n",
       "...        ...          ...      ...      ...       ...            ...   \n",
       "1250        75         26.0    226.0      1.6      36.0          0.223   \n",
       "1251        21         26.0    226.0      1.0      30.0          0.080   \n",
       "1252        45         26.0    226.0      1.6      30.0          0.080   \n",
       "1253        74         26.0    226.0      1.0      30.0          0.212   \n",
       "1254        78         26.0    226.0      1.0      30.0          0.088   \n",
       "\n",
       "      Vibration  Y  Vibration  Z  Machine Name  Failure Model  \n",
       "0            0.956         9.125             0              4  \n",
       "1            1.143         9.125             1              2  \n",
       "2            1.290         9.121             0              1  \n",
       "3            1.112         9.137             1              2  \n",
       "4            1.282         9.121             1              1  \n",
       "...            ...           ...           ...            ...  \n",
       "1250         1.159         8.713             0              4  \n",
       "1251         1.178         9.148             0              4  \n",
       "1252         1.186         9.121             0              4  \n",
       "1253         1.355         9.125             0              1  \n",
       "1254         1.151         9.160             0              4  \n",
       "\n",
       "[1255 rows x 10 columns]"
      ]
     },
     "execution_count": 19,
     "metadata": {},
     "output_type": "execute_result"
    }
   ],
   "source": [
    "df_data= pd.concat([df,df1],1)\n",
    "df_data"
   ]
  },
  {
   "cell_type": "markdown",
   "id": "b259f412",
   "metadata": {},
   "source": [
    "# Scale the Data"
   ]
  },
  {
   "cell_type": "code",
   "execution_count": 20,
   "id": "da363583",
   "metadata": {},
   "outputs": [],
   "source": [
    "#Scale the variables to get all variables in same range\n",
    "\n",
    "from sklearn.preprocessing import StandardScaler\n"
   ]
  },
  {
   "cell_type": "code",
   "execution_count": 21,
   "id": "04befa66",
   "metadata": {},
   "outputs": [
    {
     "data": {
      "text/html": [
       "<div>\n",
       "<style scoped>\n",
       "    .dataframe tbody tr th:only-of-type {\n",
       "        vertical-align: middle;\n",
       "    }\n",
       "\n",
       "    .dataframe tbody tr th {\n",
       "        vertical-align: top;\n",
       "    }\n",
       "\n",
       "    .dataframe thead th {\n",
       "        text-align: right;\n",
       "    }\n",
       "</style>\n",
       "<table border=\"1\" class=\"dataframe\">\n",
       "  <thead>\n",
       "    <tr style=\"text-align: right;\">\n",
       "      <th></th>\n",
       "      <th>Lifetime</th>\n",
       "      <th>Temperature</th>\n",
       "      <th>Voltage</th>\n",
       "      <th>Current</th>\n",
       "      <th>Humidity</th>\n",
       "      <th>Vibration - X</th>\n",
       "      <th>Vibration  Y</th>\n",
       "      <th>Vibration  Z</th>\n",
       "    </tr>\n",
       "  </thead>\n",
       "  <tbody>\n",
       "    <tr>\n",
       "      <th>0</th>\n",
       "      <td>56</td>\n",
       "      <td>30.0</td>\n",
       "      <td>230.0</td>\n",
       "      <td>1.5</td>\n",
       "      <td>28.0</td>\n",
       "      <td>0.404</td>\n",
       "      <td>0.956</td>\n",
       "      <td>9.125</td>\n",
       "    </tr>\n",
       "    <tr>\n",
       "      <th>1</th>\n",
       "      <td>81</td>\n",
       "      <td>30.0</td>\n",
       "      <td>230.0</td>\n",
       "      <td>1.5</td>\n",
       "      <td>28.0</td>\n",
       "      <td>1.004</td>\n",
       "      <td>1.143</td>\n",
       "      <td>9.125</td>\n",
       "    </tr>\n",
       "    <tr>\n",
       "      <th>2</th>\n",
       "      <td>60</td>\n",
       "      <td>30.0</td>\n",
       "      <td>230.0</td>\n",
       "      <td>1.5</td>\n",
       "      <td>34.0</td>\n",
       "      <td>0.469</td>\n",
       "      <td>1.290</td>\n",
       "      <td>9.121</td>\n",
       "    </tr>\n",
       "    <tr>\n",
       "      <th>3</th>\n",
       "      <td>86</td>\n",
       "      <td>30.0</td>\n",
       "      <td>230.0</td>\n",
       "      <td>1.5</td>\n",
       "      <td>34.0</td>\n",
       "      <td>0.373</td>\n",
       "      <td>1.112</td>\n",
       "      <td>9.137</td>\n",
       "    </tr>\n",
       "    <tr>\n",
       "      <th>4</th>\n",
       "      <td>30</td>\n",
       "      <td>30.0</td>\n",
       "      <td>230.0</td>\n",
       "      <td>1.5</td>\n",
       "      <td>31.0</td>\n",
       "      <td>0.461</td>\n",
       "      <td>1.282</td>\n",
       "      <td>9.121</td>\n",
       "    </tr>\n",
       "    <tr>\n",
       "      <th>...</th>\n",
       "      <td>...</td>\n",
       "      <td>...</td>\n",
       "      <td>...</td>\n",
       "      <td>...</td>\n",
       "      <td>...</td>\n",
       "      <td>...</td>\n",
       "      <td>...</td>\n",
       "      <td>...</td>\n",
       "    </tr>\n",
       "    <tr>\n",
       "      <th>1250</th>\n",
       "      <td>75</td>\n",
       "      <td>26.0</td>\n",
       "      <td>226.0</td>\n",
       "      <td>1.6</td>\n",
       "      <td>36.0</td>\n",
       "      <td>0.223</td>\n",
       "      <td>1.159</td>\n",
       "      <td>8.713</td>\n",
       "    </tr>\n",
       "    <tr>\n",
       "      <th>1251</th>\n",
       "      <td>21</td>\n",
       "      <td>26.0</td>\n",
       "      <td>226.0</td>\n",
       "      <td>1.0</td>\n",
       "      <td>30.0</td>\n",
       "      <td>0.080</td>\n",
       "      <td>1.178</td>\n",
       "      <td>9.148</td>\n",
       "    </tr>\n",
       "    <tr>\n",
       "      <th>1252</th>\n",
       "      <td>45</td>\n",
       "      <td>26.0</td>\n",
       "      <td>226.0</td>\n",
       "      <td>1.6</td>\n",
       "      <td>30.0</td>\n",
       "      <td>0.080</td>\n",
       "      <td>1.186</td>\n",
       "      <td>9.121</td>\n",
       "    </tr>\n",
       "    <tr>\n",
       "      <th>1253</th>\n",
       "      <td>74</td>\n",
       "      <td>26.0</td>\n",
       "      <td>226.0</td>\n",
       "      <td>1.0</td>\n",
       "      <td>30.0</td>\n",
       "      <td>0.212</td>\n",
       "      <td>1.355</td>\n",
       "      <td>9.125</td>\n",
       "    </tr>\n",
       "    <tr>\n",
       "      <th>1254</th>\n",
       "      <td>78</td>\n",
       "      <td>26.0</td>\n",
       "      <td>226.0</td>\n",
       "      <td>1.0</td>\n",
       "      <td>30.0</td>\n",
       "      <td>0.088</td>\n",
       "      <td>1.151</td>\n",
       "      <td>9.160</td>\n",
       "    </tr>\n",
       "  </tbody>\n",
       "</table>\n",
       "<p>1255 rows × 8 columns</p>\n",
       "</div>"
      ],
      "text/plain": [
       "      Lifetime  Temperature  Voltage  Current  Humidity  Vibration - X  \\\n",
       "0           56         30.0    230.0      1.5      28.0          0.404   \n",
       "1           81         30.0    230.0      1.5      28.0          1.004   \n",
       "2           60         30.0    230.0      1.5      34.0          0.469   \n",
       "3           86         30.0    230.0      1.5      34.0          0.373   \n",
       "4           30         30.0    230.0      1.5      31.0          0.461   \n",
       "...        ...          ...      ...      ...       ...            ...   \n",
       "1250        75         26.0    226.0      1.6      36.0          0.223   \n",
       "1251        21         26.0    226.0      1.0      30.0          0.080   \n",
       "1252        45         26.0    226.0      1.6      30.0          0.080   \n",
       "1253        74         26.0    226.0      1.0      30.0          0.212   \n",
       "1254        78         26.0    226.0      1.0      30.0          0.088   \n",
       "\n",
       "      Vibration  Y  Vibration  Z  \n",
       "0            0.956         9.125  \n",
       "1            1.143         9.125  \n",
       "2            1.290         9.121  \n",
       "3            1.112         9.137  \n",
       "4            1.282         9.121  \n",
       "...            ...           ...  \n",
       "1250         1.159         8.713  \n",
       "1251         1.178         9.148  \n",
       "1252         1.186         9.121  \n",
       "1253         1.355         9.125  \n",
       "1254         1.151         9.160  \n",
       "\n",
       "[1255 rows x 8 columns]"
      ]
     },
     "execution_count": 21,
     "metadata": {},
     "output_type": "execute_result"
    }
   ],
   "source": [
    "df"
   ]
  },
  {
   "cell_type": "code",
   "execution_count": 22,
   "id": "9195311d",
   "metadata": {},
   "outputs": [],
   "source": [
    "X_scaler = StandardScaler()\n",
    "\n",
    "num_scaled = X_scaler.fit_transform(df)\n",
    "df1_num_scaled = pd.DataFrame(num_scaled,columns=df.columns)"
   ]
  },
  {
   "cell_type": "code",
   "execution_count": 23,
   "id": "0ebd2aac",
   "metadata": {},
   "outputs": [
    {
     "data": {
      "text/html": [
       "<div>\n",
       "<style scoped>\n",
       "    .dataframe tbody tr th:only-of-type {\n",
       "        vertical-align: middle;\n",
       "    }\n",
       "\n",
       "    .dataframe tbody tr th {\n",
       "        vertical-align: top;\n",
       "    }\n",
       "\n",
       "    .dataframe thead th {\n",
       "        text-align: right;\n",
       "    }\n",
       "</style>\n",
       "<table border=\"1\" class=\"dataframe\">\n",
       "  <thead>\n",
       "    <tr style=\"text-align: right;\">\n",
       "      <th></th>\n",
       "      <th>Lifetime</th>\n",
       "      <th>Temperature</th>\n",
       "      <th>Voltage</th>\n",
       "      <th>Current</th>\n",
       "      <th>Humidity</th>\n",
       "      <th>Vibration - X</th>\n",
       "      <th>Vibration  Y</th>\n",
       "      <th>Vibration  Z</th>\n",
       "      <th>Machine Name</th>\n",
       "      <th>Failure Model</th>\n",
       "    </tr>\n",
       "  </thead>\n",
       "  <tbody>\n",
       "    <tr>\n",
       "      <th>0</th>\n",
       "      <td>0.125835</td>\n",
       "      <td>0.059300</td>\n",
       "      <td>0.130816</td>\n",
       "      <td>0.408667</td>\n",
       "      <td>-0.470537</td>\n",
       "      <td>-0.418374</td>\n",
       "      <td>-0.485081</td>\n",
       "      <td>-0.012624</td>\n",
       "      <td>0</td>\n",
       "      <td>4</td>\n",
       "    </tr>\n",
       "    <tr>\n",
       "      <th>1</th>\n",
       "      <td>1.167269</td>\n",
       "      <td>0.059300</td>\n",
       "      <td>0.130816</td>\n",
       "      <td>0.408667</td>\n",
       "      <td>-0.470537</td>\n",
       "      <td>1.672329</td>\n",
       "      <td>0.022559</td>\n",
       "      <td>-0.012624</td>\n",
       "      <td>1</td>\n",
       "      <td>2</td>\n",
       "    </tr>\n",
       "    <tr>\n",
       "      <th>2</th>\n",
       "      <td>0.292464</td>\n",
       "      <td>0.059300</td>\n",
       "      <td>0.130816</td>\n",
       "      <td>0.408667</td>\n",
       "      <td>0.989951</td>\n",
       "      <td>-0.191881</td>\n",
       "      <td>0.421612</td>\n",
       "      <td>-0.033671</td>\n",
       "      <td>0</td>\n",
       "      <td>1</td>\n",
       "    </tr>\n",
       "    <tr>\n",
       "      <th>3</th>\n",
       "      <td>1.375555</td>\n",
       "      <td>0.059300</td>\n",
       "      <td>0.130816</td>\n",
       "      <td>0.408667</td>\n",
       "      <td>0.989951</td>\n",
       "      <td>-0.526393</td>\n",
       "      <td>-0.061596</td>\n",
       "      <td>0.050516</td>\n",
       "      <td>1</td>\n",
       "      <td>2</td>\n",
       "    </tr>\n",
       "    <tr>\n",
       "      <th>4</th>\n",
       "      <td>-0.957256</td>\n",
       "      <td>0.059300</td>\n",
       "      <td>0.130816</td>\n",
       "      <td>0.408667</td>\n",
       "      <td>0.259707</td>\n",
       "      <td>-0.219757</td>\n",
       "      <td>0.399895</td>\n",
       "      <td>-0.033671</td>\n",
       "      <td>1</td>\n",
       "      <td>1</td>\n",
       "    </tr>\n",
       "    <tr>\n",
       "      <th>5</th>\n",
       "      <td>0.625723</td>\n",
       "      <td>0.059300</td>\n",
       "      <td>0.130816</td>\n",
       "      <td>0.408667</td>\n",
       "      <td>-0.470537</td>\n",
       "      <td>-0.526393</td>\n",
       "      <td>0.598064</td>\n",
       "      <td>-2.201484</td>\n",
       "      <td>0</td>\n",
       "      <td>4</td>\n",
       "    </tr>\n",
       "    <tr>\n",
       "      <th>6</th>\n",
       "      <td>-1.248857</td>\n",
       "      <td>-0.078319</td>\n",
       "      <td>0.077486</td>\n",
       "      <td>0.743443</td>\n",
       "      <td>-0.470537</td>\n",
       "      <td>-0.191881</td>\n",
       "      <td>1.811513</td>\n",
       "      <td>0.071563</td>\n",
       "      <td>0</td>\n",
       "      <td>4</td>\n",
       "    </tr>\n",
       "    <tr>\n",
       "      <th>7</th>\n",
       "      <td>1.167269</td>\n",
       "      <td>-0.078319</td>\n",
       "      <td>0.077486</td>\n",
       "      <td>0.743443</td>\n",
       "      <td>-0.227122</td>\n",
       "      <td>-0.526393</td>\n",
       "      <td>0.065993</td>\n",
       "      <td>-0.012624</td>\n",
       "      <td>1</td>\n",
       "      <td>2</td>\n",
       "    </tr>\n",
       "    <tr>\n",
       "      <th>8</th>\n",
       "      <td>-0.623997</td>\n",
       "      <td>-0.078319</td>\n",
       "      <td>0.077486</td>\n",
       "      <td>0.743443</td>\n",
       "      <td>-0.470537</td>\n",
       "      <td>-0.390498</td>\n",
       "      <td>0.294024</td>\n",
       "      <td>0.029470</td>\n",
       "      <td>0</td>\n",
       "      <td>1</td>\n",
       "    </tr>\n",
       "    <tr>\n",
       "      <th>9</th>\n",
       "      <td>-0.998913</td>\n",
       "      <td>-0.078319</td>\n",
       "      <td>0.077486</td>\n",
       "      <td>0.743443</td>\n",
       "      <td>-0.470537</td>\n",
       "      <td>-0.655320</td>\n",
       "      <td>-0.612669</td>\n",
       "      <td>0.108395</td>\n",
       "      <td>1</td>\n",
       "      <td>4</td>\n",
       "    </tr>\n",
       "    <tr>\n",
       "      <th>10</th>\n",
       "      <td>0.500751</td>\n",
       "      <td>-0.078319</td>\n",
       "      <td>0.077486</td>\n",
       "      <td>0.743443</td>\n",
       "      <td>-0.470537</td>\n",
       "      <td>-0.125675</td>\n",
       "      <td>-0.039878</td>\n",
       "      <td>-0.012624</td>\n",
       "      <td>0</td>\n",
       "      <td>1</td>\n",
       "    </tr>\n",
       "    <tr>\n",
       "      <th>11</th>\n",
       "      <td>0.500751</td>\n",
       "      <td>-0.078319</td>\n",
       "      <td>0.077486</td>\n",
       "      <td>0.743443</td>\n",
       "      <td>-0.470537</td>\n",
       "      <td>-0.390498</td>\n",
       "      <td>0.294024</td>\n",
       "      <td>-2.096250</td>\n",
       "      <td>1</td>\n",
       "      <td>4</td>\n",
       "    </tr>\n",
       "    <tr>\n",
       "      <th>12</th>\n",
       "      <td>1.208926</td>\n",
       "      <td>-0.078319</td>\n",
       "      <td>0.077486</td>\n",
       "      <td>0.743443</td>\n",
       "      <td>-0.470537</td>\n",
       "      <td>-0.446250</td>\n",
       "      <td>0.150147</td>\n",
       "      <td>0.129442</td>\n",
       "      <td>1</td>\n",
       "      <td>2</td>\n",
       "    </tr>\n",
       "    <tr>\n",
       "      <th>13</th>\n",
       "      <td>1.125611</td>\n",
       "      <td>-0.078319</td>\n",
       "      <td>0.077486</td>\n",
       "      <td>0.743443</td>\n",
       "      <td>-0.470537</td>\n",
       "      <td>-0.205819</td>\n",
       "      <td>1.811513</td>\n",
       "      <td>-0.054717</td>\n",
       "      <td>0</td>\n",
       "      <td>4</td>\n",
       "    </tr>\n",
       "    <tr>\n",
       "      <th>14</th>\n",
       "      <td>-0.207424</td>\n",
       "      <td>-0.078319</td>\n",
       "      <td>0.077486</td>\n",
       "      <td>0.743443</td>\n",
       "      <td>-0.227122</td>\n",
       "      <td>-0.418374</td>\n",
       "      <td>0.598064</td>\n",
       "      <td>-0.033671</td>\n",
       "      <td>1</td>\n",
       "      <td>1</td>\n",
       "    </tr>\n",
       "    <tr>\n",
       "      <th>15</th>\n",
       "      <td>1.125611</td>\n",
       "      <td>-0.078319</td>\n",
       "      <td>0.077486</td>\n",
       "      <td>0.743443</td>\n",
       "      <td>0.989951</td>\n",
       "      <td>-0.125675</td>\n",
       "      <td>0.065993</td>\n",
       "      <td>0.071563</td>\n",
       "      <td>0</td>\n",
       "      <td>1</td>\n",
       "    </tr>\n",
       "    <tr>\n",
       "      <th>16</th>\n",
       "      <td>1.625500</td>\n",
       "      <td>-0.078319</td>\n",
       "      <td>0.077486</td>\n",
       "      <td>0.743443</td>\n",
       "      <td>-0.470537</td>\n",
       "      <td>-0.540331</td>\n",
       "      <td>0.139289</td>\n",
       "      <td>-0.054717</td>\n",
       "      <td>0</td>\n",
       "      <td>2</td>\n",
       "    </tr>\n",
       "    <tr>\n",
       "      <th>17</th>\n",
       "      <td>1.458870</td>\n",
       "      <td>-0.078319</td>\n",
       "      <td>0.077486</td>\n",
       "      <td>0.743443</td>\n",
       "      <td>-0.227122</td>\n",
       "      <td>-0.296416</td>\n",
       "      <td>0.161006</td>\n",
       "      <td>-0.054717</td>\n",
       "      <td>1</td>\n",
       "      <td>2</td>\n",
       "    </tr>\n",
       "    <tr>\n",
       "      <th>18</th>\n",
       "      <td>0.875667</td>\n",
       "      <td>-0.078319</td>\n",
       "      <td>0.077486</td>\n",
       "      <td>0.743443</td>\n",
       "      <td>-0.470537</td>\n",
       "      <td>-0.139613</td>\n",
       "      <td>1.026979</td>\n",
       "      <td>0.108395</td>\n",
       "      <td>1</td>\n",
       "      <td>1</td>\n",
       "    </tr>\n",
       "    <tr>\n",
       "      <th>19</th>\n",
       "      <td>0.500751</td>\n",
       "      <td>-0.078319</td>\n",
       "      <td>0.077486</td>\n",
       "      <td>0.743443</td>\n",
       "      <td>-0.227122</td>\n",
       "      <td>-0.404436</td>\n",
       "      <td>-0.604525</td>\n",
       "      <td>0.071563</td>\n",
       "      <td>1</td>\n",
       "      <td>4</td>\n",
       "    </tr>\n",
       "  </tbody>\n",
       "</table>\n",
       "</div>"
      ],
      "text/plain": [
       "    Lifetime  Temperature   Voltage   Current  Humidity  Vibration - X  \\\n",
       "0   0.125835     0.059300  0.130816  0.408667 -0.470537      -0.418374   \n",
       "1   1.167269     0.059300  0.130816  0.408667 -0.470537       1.672329   \n",
       "2   0.292464     0.059300  0.130816  0.408667  0.989951      -0.191881   \n",
       "3   1.375555     0.059300  0.130816  0.408667  0.989951      -0.526393   \n",
       "4  -0.957256     0.059300  0.130816  0.408667  0.259707      -0.219757   \n",
       "5   0.625723     0.059300  0.130816  0.408667 -0.470537      -0.526393   \n",
       "6  -1.248857    -0.078319  0.077486  0.743443 -0.470537      -0.191881   \n",
       "7   1.167269    -0.078319  0.077486  0.743443 -0.227122      -0.526393   \n",
       "8  -0.623997    -0.078319  0.077486  0.743443 -0.470537      -0.390498   \n",
       "9  -0.998913    -0.078319  0.077486  0.743443 -0.470537      -0.655320   \n",
       "10  0.500751    -0.078319  0.077486  0.743443 -0.470537      -0.125675   \n",
       "11  0.500751    -0.078319  0.077486  0.743443 -0.470537      -0.390498   \n",
       "12  1.208926    -0.078319  0.077486  0.743443 -0.470537      -0.446250   \n",
       "13  1.125611    -0.078319  0.077486  0.743443 -0.470537      -0.205819   \n",
       "14 -0.207424    -0.078319  0.077486  0.743443 -0.227122      -0.418374   \n",
       "15  1.125611    -0.078319  0.077486  0.743443  0.989951      -0.125675   \n",
       "16  1.625500    -0.078319  0.077486  0.743443 -0.470537      -0.540331   \n",
       "17  1.458870    -0.078319  0.077486  0.743443 -0.227122      -0.296416   \n",
       "18  0.875667    -0.078319  0.077486  0.743443 -0.470537      -0.139613   \n",
       "19  0.500751    -0.078319  0.077486  0.743443 -0.227122      -0.404436   \n",
       "\n",
       "    Vibration  Y  Vibration  Z  Machine Name  Failure Model  \n",
       "0      -0.485081     -0.012624             0              4  \n",
       "1       0.022559     -0.012624             1              2  \n",
       "2       0.421612     -0.033671             0              1  \n",
       "3      -0.061596      0.050516             1              2  \n",
       "4       0.399895     -0.033671             1              1  \n",
       "5       0.598064     -2.201484             0              4  \n",
       "6       1.811513      0.071563             0              4  \n",
       "7       0.065993     -0.012624             1              2  \n",
       "8       0.294024      0.029470             0              1  \n",
       "9      -0.612669      0.108395             1              4  \n",
       "10     -0.039878     -0.012624             0              1  \n",
       "11      0.294024     -2.096250             1              4  \n",
       "12      0.150147      0.129442             1              2  \n",
       "13      1.811513     -0.054717             0              4  \n",
       "14      0.598064     -0.033671             1              1  \n",
       "15      0.065993      0.071563             0              1  \n",
       "16      0.139289     -0.054717             0              2  \n",
       "17      0.161006     -0.054717             1              2  \n",
       "18      1.026979      0.108395             1              1  \n",
       "19     -0.604525      0.071563             1              4  "
      ]
     },
     "execution_count": 23,
     "metadata": {},
     "output_type": "execute_result"
    }
   ],
   "source": [
    "#final data\n",
    "data = pd.concat([df1_num_scaled,df1],axis=1)\n",
    "data.head(20)"
   ]
  },
  {
   "cell_type": "code",
   "execution_count": 24,
   "id": "960a8028",
   "metadata": {},
   "outputs": [],
   "source": [
    "# Divide the data into train and test\n",
    "\n",
    "from sklearn.model_selection import train_test_split"
   ]
  },
  {
   "cell_type": "code",
   "execution_count": 25,
   "id": "85c53484",
   "metadata": {},
   "outputs": [],
   "source": [
    "X= data.drop('Failure Model',1)\n",
    "y= data['Failure Model']"
   ]
  },
  {
   "cell_type": "code",
   "execution_count": 26,
   "id": "7b03328d",
   "metadata": {},
   "outputs": [
    {
     "name": "stdout",
     "output_type": "stream",
     "text": [
      "X train (878, 9)\n",
      "y train (878,)\n",
      "X test (377, 9)\n",
      "y test (377,)\n"
     ]
    }
   ],
   "source": [
    "X_train,X_test,y_train,y_test = train_test_split(X,y,test_size=0.3, random_state=123)\n",
    "\n",
    "print('X train',X_train.shape)\n",
    "print('y train',y_train.shape)\n",
    "print('X test',X_test.shape)\n",
    "print('y test',y_test.shape)"
   ]
  },
  {
   "cell_type": "markdown",
   "id": "4f19cfa5",
   "metadata": {},
   "source": [
    "# Decision Tree Model"
   ]
  },
  {
   "cell_type": "code",
   "execution_count": 27,
   "id": "a6d6b0e1",
   "metadata": {},
   "outputs": [],
   "source": [
    "from sklearn.tree import DecisionTreeClassifier"
   ]
  },
  {
   "cell_type": "code",
   "execution_count": 28,
   "id": "c4aa067e",
   "metadata": {},
   "outputs": [],
   "source": [
    "decision_tree_classification = DecisionTreeClassifier(criterion='entropy',random_state=10)"
   ]
  },
  {
   "cell_type": "code",
   "execution_count": 29,
   "id": "953c5272",
   "metadata": {},
   "outputs": [],
   "source": [
    "decision_tree = decision_tree_classification.fit(X_train,y_train)"
   ]
  },
  {
   "cell_type": "code",
   "execution_count": 30,
   "id": "3bc6eb92",
   "metadata": {},
   "outputs": [],
   "source": [
    "dtree_pred= decision_tree.predict(X_test)"
   ]
  },
  {
   "cell_type": "code",
   "execution_count": 48,
   "id": "81a42523",
   "metadata": {},
   "outputs": [
    {
     "data": {
      "text/html": [
       "<div>\n",
       "<style scoped>\n",
       "    .dataframe tbody tr th:only-of-type {\n",
       "        vertical-align: middle;\n",
       "    }\n",
       "\n",
       "    .dataframe tbody tr th {\n",
       "        vertical-align: top;\n",
       "    }\n",
       "\n",
       "    .dataframe thead th {\n",
       "        text-align: right;\n",
       "    }\n",
       "</style>\n",
       "<table border=\"1\" class=\"dataframe\">\n",
       "  <thead>\n",
       "    <tr style=\"text-align: right;\">\n",
       "      <th></th>\n",
       "      <th>Lifetime</th>\n",
       "      <th>Temperature</th>\n",
       "      <th>Voltage</th>\n",
       "      <th>Current</th>\n",
       "      <th>Humidity</th>\n",
       "      <th>Vibration - X</th>\n",
       "      <th>Vibration  Y</th>\n",
       "      <th>Vibration  Z</th>\n",
       "      <th>Machine Name</th>\n",
       "    </tr>\n",
       "  </thead>\n",
       "  <tbody>\n",
       "    <tr>\n",
       "      <th>678</th>\n",
       "      <td>0.375779</td>\n",
       "      <td>-3.931660</td>\n",
       "      <td>-0.029174</td>\n",
       "      <td>0.743443</td>\n",
       "      <td>0.746536</td>\n",
       "      <td>1.700205</td>\n",
       "      <td>-0.083313</td>\n",
       "      <td>-0.012624</td>\n",
       "      <td>1</td>\n",
       "    </tr>\n",
       "    <tr>\n",
       "      <th>933</th>\n",
       "      <td>-0.332396</td>\n",
       "      <td>-0.491177</td>\n",
       "      <td>-0.082504</td>\n",
       "      <td>0.743443</td>\n",
       "      <td>0.016292</td>\n",
       "      <td>-0.153551</td>\n",
       "      <td>1.225148</td>\n",
       "      <td>-0.033671</td>\n",
       "      <td>0</td>\n",
       "    </tr>\n",
       "    <tr>\n",
       "      <th>873</th>\n",
       "      <td>-1.457144</td>\n",
       "      <td>-0.078319</td>\n",
       "      <td>0.077486</td>\n",
       "      <td>0.408667</td>\n",
       "      <td>-0.470537</td>\n",
       "      <td>-0.268540</td>\n",
       "      <td>1.811513</td>\n",
       "      <td>0.029470</td>\n",
       "      <td>0</td>\n",
       "    </tr>\n",
       "    <tr>\n",
       "      <th>524</th>\n",
       "      <td>0.459094</td>\n",
       "      <td>0.196920</td>\n",
       "      <td>0.184146</td>\n",
       "      <td>0.743443</td>\n",
       "      <td>-0.713952</td>\n",
       "      <td>-0.205819</td>\n",
       "      <td>0.399895</td>\n",
       "      <td>-2.096250</td>\n",
       "      <td>0</td>\n",
       "    </tr>\n",
       "    <tr>\n",
       "      <th>825</th>\n",
       "      <td>-2.165319</td>\n",
       "      <td>0.196920</td>\n",
       "      <td>0.184146</td>\n",
       "      <td>-1.265213</td>\n",
       "      <td>-0.227122</td>\n",
       "      <td>-0.526393</td>\n",
       "      <td>0.065993</td>\n",
       "      <td>0.150488</td>\n",
       "      <td>1</td>\n",
       "    </tr>\n",
       "  </tbody>\n",
       "</table>\n",
       "</div>"
      ],
      "text/plain": [
       "     Lifetime  Temperature   Voltage   Current  Humidity  Vibration - X  \\\n",
       "678  0.375779    -3.931660 -0.029174  0.743443  0.746536       1.700205   \n",
       "933 -0.332396    -0.491177 -0.082504  0.743443  0.016292      -0.153551   \n",
       "873 -1.457144    -0.078319  0.077486  0.408667 -0.470537      -0.268540   \n",
       "524  0.459094     0.196920  0.184146  0.743443 -0.713952      -0.205819   \n",
       "825 -2.165319     0.196920  0.184146 -1.265213 -0.227122      -0.526393   \n",
       "\n",
       "     Vibration  Y  Vibration  Z  Machine Name  \n",
       "678     -0.083313     -0.012624             1  \n",
       "933      1.225148     -0.033671             0  \n",
       "873      1.811513      0.029470             0  \n",
       "524      0.399895     -2.096250             0  \n",
       "825      0.065993      0.150488             1  "
      ]
     },
     "execution_count": 48,
     "metadata": {},
     "output_type": "execute_result"
    }
   ],
   "source": [
    "X_test.head()"
   ]
  },
  {
   "cell_type": "code",
   "execution_count": 31,
   "id": "c66ce010",
   "metadata": {},
   "outputs": [
    {
     "data": {
      "text/plain": [
       "array([3, 1, 4, 4, 1, 1, 1, 1, 4, 4, 1, 1, 3, 1, 1, 1, 0, 4, 4, 1, 1, 1,\n",
       "       4, 4, 1, 0, 0, 4, 2, 1, 4, 1, 4, 4, 1, 4, 4, 1, 1, 1, 1, 1, 1, 1,\n",
       "       1, 1, 0, 1, 4, 2, 4, 0, 1, 2, 1, 0, 1, 1, 4, 1, 1, 1, 4, 3, 2, 1,\n",
       "       1, 1, 4, 1, 1, 1, 1, 1, 1, 1, 4, 3, 0, 4, 1, 2, 1, 1, 2, 3, 1, 2,\n",
       "       4, 1, 1, 4, 3, 1, 0, 0, 1, 1, 1, 2, 3, 0, 0, 4, 0, 3, 1, 4, 1, 0,\n",
       "       4, 3, 1, 1, 3, 1, 0, 0, 4, 2, 2, 1, 3, 4, 4, 4, 3, 1, 4, 4, 1, 0,\n",
       "       1, 1, 4, 4, 1, 2, 2, 3, 4, 1, 1, 4, 4, 1, 4, 1, 4, 4, 2, 3, 3, 4,\n",
       "       1, 1, 1, 1, 1, 4, 1, 2, 4, 4, 4, 1, 1, 4, 4, 4, 1, 2, 2, 1, 0, 4,\n",
       "       1, 1, 0, 1, 4, 0, 1, 3, 1, 1, 3, 4, 4, 4, 0, 4, 1, 0, 1, 4, 4, 0,\n",
       "       4, 2, 1, 4, 1, 1, 1, 1, 4, 4, 3, 3, 1, 4, 0, 4, 2, 4, 4, 3, 1, 1,\n",
       "       1, 4, 3, 2, 4, 1, 1, 4, 4, 3, 1, 0, 1, 1, 1, 4, 3, 4, 4, 1, 0, 1,\n",
       "       0, 1, 1, 4, 4, 1, 1, 4, 4, 3, 4, 4, 4, 3, 4, 1, 4, 1, 3, 0, 3, 1,\n",
       "       1, 1, 2, 1, 4, 1, 1, 4, 1, 3, 4, 1, 1, 4, 0, 4, 4, 4, 1, 4, 0, 1,\n",
       "       3, 4, 4, 3, 4, 3, 4, 4, 2, 1, 4, 1, 4, 3, 1, 4, 0, 1, 3, 4, 4, 4,\n",
       "       4, 3, 1, 4, 3, 0, 1, 4, 0, 1, 1, 4, 0, 3, 4, 1, 3, 1, 1, 4, 1, 1,\n",
       "       4, 1, 1, 0, 2, 1, 3, 4, 4, 2, 3, 3, 4, 2, 1, 1, 4, 4, 4, 3, 1, 2,\n",
       "       3, 4, 4, 4, 1, 0, 1, 4, 4, 0, 4, 4, 1, 1, 1, 1, 4, 4, 1, 1, 1, 1,\n",
       "       1, 3, 1])"
      ]
     },
     "execution_count": 31,
     "metadata": {},
     "output_type": "execute_result"
    }
   ],
   "source": [
    "dtree_pred"
   ]
  },
  {
   "cell_type": "code",
   "execution_count": 32,
   "id": "3e5cad8d",
   "metadata": {},
   "outputs": [],
   "source": [
    "# check important Features "
   ]
  },
  {
   "cell_type": "code",
   "execution_count": 33,
   "id": "a22c15bf",
   "metadata": {},
   "outputs": [
    {
     "data": {
      "image/png": "[encoded data removed]",
      "text/plain": [
       "<Figure size 432x288 with 1 Axes>"
      ]
     },
     "metadata": {
      "needs_background": "light"
     },
     "output_type": "display_data"
    }
   ],
   "source": [
    "important_features = pd.DataFrame({'Features':X_train.columns,\n",
    "                                  'Importance':decision_tree.feature_importances_})\n",
    "important_features = important_features.sort_values('Importance',ascending=False)\n",
    "\n",
    "sns.barplot(x='Importance',y='Features',data=important_features)\n",
    "plt.title('Feature Importance',fontsize=15)\n",
    "plt.xlabel('Importance',fontsize=12)\n",
    "plt.ylabel('Features',fontsize=12)\n",
    "plt.show()"
   ]
  },
  {
   "cell_type": "markdown",
   "id": "931323d3",
   "metadata": {},
   "source": [
    "# calculate the metrics for train and test set\n"
   ]
  },
  {
   "cell_type": "code",
   "execution_count": 34,
   "id": "cf5dc2e2",
   "metadata": {},
   "outputs": [],
   "source": [
    "pred_train = decision_tree.predict(X_train)"
   ]
  },
  {
   "cell_type": "code",
   "execution_count": 35,
   "id": "66b12e4d",
   "metadata": {},
   "outputs": [],
   "source": [
    "from sklearn import metrics\n",
    "from sklearn.metrics import classification_report\n",
    "\n",
    "from sklearn.metrics import confusion_matrix\n",
    "from sklearn.metrics import roc_auc_score\n",
    "from sklearn.metrics import precision_score,accuracy_score,f1_score,recall_score"
   ]
  },
  {
   "cell_type": "code",
   "execution_count": 36,
   "id": "f96541ed",
   "metadata": {},
   "outputs": [
    {
     "name": "stdout",
     "output_type": "stream",
     "text": [
      "              precision    recall  f1-score   support\n",
      "\n",
      "           0       1.00      1.00      1.00        88\n",
      "           1       1.00      1.00      1.00       326\n",
      "           2       1.00      1.00      1.00        58\n",
      "           3       1.00      1.00      1.00       106\n",
      "           4       1.00      1.00      1.00       300\n",
      "\n",
      "    accuracy                           1.00       878\n",
      "   macro avg       1.00      1.00      1.00       878\n",
      "weighted avg       1.00      1.00      1.00       878\n",
      "\n"
     ]
    }
   ],
   "source": [
    "print(classification_report(y_train,pred_train))"
   ]
  },
  {
   "cell_type": "code",
   "execution_count": 37,
   "id": "d32c7481",
   "metadata": {},
   "outputs": [
    {
     "name": "stdout",
     "output_type": "stream",
     "text": [
      "              precision    recall  f1-score   support\n",
      "\n",
      "           0       1.00      1.00      1.00        36\n",
      "           1       1.00      1.00      1.00       152\n",
      "           2       1.00      1.00      1.00        25\n",
      "           3       0.95      0.95      0.95        43\n",
      "           4       0.98      0.98      0.98       121\n",
      "\n",
      "    accuracy                           0.99       377\n",
      "   macro avg       0.99      0.99      0.99       377\n",
      "weighted avg       0.99      0.99      0.99       377\n",
      "\n"
     ]
    }
   ],
   "source": [
    "print(classification_report(y_test,dtree_pred))"
   ]
  },
  {
   "cell_type": "code",
   "execution_count": 38,
   "id": "b062e564",
   "metadata": {},
   "outputs": [
    {
     "data": {
      "text/plain": [
       "array([[ 36,   0,   0,   0,   0],\n",
       "       [  0, 152,   0,   0,   0],\n",
       "       [  0,   0,  25,   0,   0],\n",
       "       [  0,   0,   0,  41,   2],\n",
       "       [  0,   0,   0,   2, 119]], dtype=int64)"
      ]
     },
     "execution_count": 38,
     "metadata": {},
     "output_type": "execute_result"
    }
   ],
   "source": [
    "cm = confusion_matrix(y_test, dtree_pred)\n",
    "cm"
   ]
  },
  {
   "cell_type": "code",
   "execution_count": 39,
   "id": "afc39094",
   "metadata": {},
   "outputs": [
    {
     "name": "stdout",
     "output_type": "stream",
     "text": [
      "\n",
      "Accuracy: 0.99\n",
      "\n"
     ]
    }
   ],
   "source": [
    "#importing accuracy_score, precision_score, recall_score, f1_score\n",
    "from sklearn.metrics import accuracy_score, precision_score, recall_score, f1_score\n",
    "print('\\nAccuracy: {:.2f}\\n'.format(accuracy_score(y_test, dtree_pred)))"
   ]
  },
  {
   "cell_type": "code",
   "execution_count": 40,
   "id": "5b8a2599",
   "metadata": {},
   "outputs": [
    {
     "name": "stdout",
     "output_type": "stream",
     "text": [
      "\n",
      "Accuracy: 1.00\n",
      "\n"
     ]
    }
   ],
   "source": [
    "print('\\nAccuracy: {:.2f}\\n'.format(accuracy_score(y_train, pred_train)))"
   ]
  },
  {
   "cell_type": "code",
   "execution_count": 41,
   "id": "db6b4c43",
   "metadata": {},
   "outputs": [],
   "source": [
    "#df1['Failure Model'].value_counts()"
   ]
  },
  {
   "cell_type": "code",
   "execution_count": 42,
   "id": "a9722ba3",
   "metadata": {},
   "outputs": [],
   "source": [
    "#df_target.value_counts()"
   ]
  },
  {
   "cell_type": "code",
   "execution_count": 43,
   "id": "b6165eb6",
   "metadata": {},
   "outputs": [],
   "source": [
    "# Creating a dataframe for a array-formatted Confusion matrix,so it will be easy for plotting.\n",
    "cm_df = pd.DataFrame(cm,\n",
    "                     index = ['Electrical Model','Healthy State','Lifetime Model','Thermal Model','Vibration Model'], \n",
    "                     columns = ['Electrical Model','Healthy State','Lifetime Model','Thermal Model','Vibration Model'])"
   ]
  },
  {
   "cell_type": "code",
   "execution_count": 44,
   "id": "dfaf4a3d",
   "metadata": {},
   "outputs": [
    {
     "data": {
      "image/png": "[encoded data removed]",
      "text/plain": [
       "<Figure size 648x576 with 2 Axes>"
      ]
     },
     "metadata": {
      "needs_background": "light"
     },
     "output_type": "display_data"
    }
   ],
   "source": [
    "#Plotting the confusion matrix\n",
    "plt.figure(figsize=(9,8))\n",
    "sns.heatmap(cm_df, annot=True)\n",
    "plt.title('Confusion Matrix')\n",
    "plt.ylabel('Actal Values')\n",
    "plt.xlabel('Predicted Values')\n",
    "plt.show()"
   ]
  },
  {
   "cell_type": "code",
   "execution_count": 45,
   "id": "ff4b8ddd",
   "metadata": {},
   "outputs": [],
   "source": [
    "y_test_proba= decision_tree.predict_proba(X_test)"
   ]
  },
  {
   "cell_type": "code",
   "execution_count": 46,
   "id": "1671087d",
   "metadata": {},
   "outputs": [
    {
     "data": {
      "text/plain": [
       "array([[0., 0., 0., 1., 0.],\n",
       "       [0., 1., 0., 0., 0.],\n",
       "       [0., 0., 0., 0., 1.],\n",
       "       ...,\n",
       "       [0., 1., 0., 0., 0.],\n",
       "       [0., 0., 0., 1., 0.],\n",
       "       [0., 1., 0., 0., 0.]])"
      ]
     },
     "execution_count": 46,
     "metadata": {},
     "output_type": "execute_result"
    }
   ],
   "source": [
    "y_test_proba"
   ]
  },
  {
   "cell_type": "code",
   "execution_count": 47,
   "id": "c5fb3b53",
   "metadata": {},
   "outputs": [
    {
     "data": {
      "text/plain": [
       "0.9923158922521094"
      ]
     },
     "execution_count": 47,
     "metadata": {},
     "output_type": "execute_result"
    }
   ],
   "source": [
    "# find Roc-Auc score\n",
    "\n",
    "roc_auc_score(y_test,y_test_proba, multi_class='ovr')"
   ]
  },
  {
   "cell_type": "code",
   "execution_count": null,
   "id": "d1fb24fb",
   "metadata": {},
   "outputs": [],
   "source": []
  },
  {
   "cell_type": "code",
   "execution_count": null,
   "id": "865fc8eb",
   "metadata": {},
   "outputs": [],
   "source": []
  }
 ],
 "metadata": {
  "kernelspec": {
   "display_name": "Python 3 (ipykernel)",
   "language": "python",
   "name": "python3"
  },
  "language_info": {
   "codemirror_mode": {
    "name": "ipython",
    "version": 3
   },
   "file_extension": ".py",
   "mimetype": "text/x-python",
   "name": "python",
   "nbconvert_exporter": "python",
   "pygments_lexer": "ipython3",
   "version": "3.9.7"
  }
 },
 "nbformat": 4,
 "nbformat_minor": 5
}
