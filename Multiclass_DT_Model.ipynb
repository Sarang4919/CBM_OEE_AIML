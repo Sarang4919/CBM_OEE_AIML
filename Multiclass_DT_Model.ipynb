{
 "cells": [
  {
   "cell_type": "code",
   "execution_count": 1,
   "id": "49a361ce",
   "metadata": {},
   "outputs": [],
   "source": [
    "import pandas as pd\n",
    "import numpy as np\n",
    "import matplotlib.pyplot as plt\n",
    "import seaborn as sns\n",
    "from sklearn.preprocessing import LabelEncoder\n",
    "from sklearn.preprocessing import StandardScaler\n",
    "from sklearn.model_selection import train_test_split\n",
    "import statsmodels.api as sm\n",
    "from sklearn.tree import DecisionTreeClassifier\n",
    "import warnings\n",
    "warnings.filterwarnings('ignore')"
   ]
  },
  {
   "cell_type": "code",
   "execution_count": 2,
   "id": "987b294a",
   "metadata": {},
   "outputs": [],
   "source": [
    "df = pd.read_csv('survival.csv')"
   ]
  },
  {
   "cell_type": "code",
   "execution_count": 3,
   "id": "459223b6",
   "metadata": {},
   "outputs": [],
   "source": [
    "df.rename(columns={'Vibration - X':'VibrationX','Vibration  Y':'VibrationY','Vibration  Z':'VibrationZ'},inplace=True)"
   ]
  },
  {
   "cell_type": "code",
   "execution_count": 4,
   "id": "ef3ee0e8",
   "metadata": {},
   "outputs": [],
   "source": [
    "df1 = df.drop(['Machine ID','Responsible Failure Cause','Broken'],axis=1)"
   ]
  },
  {
   "cell_type": "code",
   "execution_count": 5,
   "id": "debb9a3a",
   "metadata": {},
   "outputs": [],
   "source": [
    "df1_cat = df1[['Machine Name','Failure Model']]"
   ]
  },
  {
   "cell_type": "code",
   "execution_count": 6,
   "id": "788aded5",
   "metadata": {},
   "outputs": [
    {
     "data": {
      "text/plain": [
       "Healthy State       478\n",
       "Vibration Model     421\n",
       "Thermal Model       149\n",
       "Electrical Model    124\n",
       "Lifetime Model       83\n",
       "Name: Failure Model, dtype: int64"
      ]
     },
     "execution_count": 6,
     "metadata": {},
     "output_type": "execute_result"
    }
   ],
   "source": [
    "df1['Failure Model'].value_counts()"
   ]
  },
  {
   "cell_type": "code",
   "execution_count": 7,
   "id": "c028d998",
   "metadata": {},
   "outputs": [],
   "source": [
    "LE = LabelEncoder()"
   ]
  },
  {
   "cell_type": "code",
   "execution_count": 8,
   "id": "fb0d420c",
   "metadata": {},
   "outputs": [],
   "source": [
    "df1_cat['Machine_Name'] = LE.fit_transform(df1_cat['Machine Name'])"
   ]
  },
  {
   "cell_type": "code",
   "execution_count": 9,
   "id": "62796e1c",
   "metadata": {},
   "outputs": [],
   "source": [
    "df1_cat['Failure_Model'] = LE.fit_transform(df1['Failure Model'])"
   ]
  },
  {
   "cell_type": "code",
   "execution_count": 10,
   "id": "dc3e7053",
   "metadata": {},
   "outputs": [],
   "source": [
    "dummy_var = df1_cat[['Machine_Name','Failure_Model']]"
   ]
  },
  {
   "cell_type": "code",
   "execution_count": 11,
   "id": "ea2bd29f",
   "metadata": {},
   "outputs": [],
   "source": [
    "df1_num = df1.select_dtypes(include=np.number)"
   ]
  },
  {
   "cell_type": "code",
   "execution_count": 12,
   "id": "4c43a974",
   "metadata": {
    "scrolled": false
   },
   "outputs": [],
   "source": [
    "X = pd.concat([df1_num,dummy_var],axis=1)"
   ]
  },
  {
   "cell_type": "code",
   "execution_count": 13,
   "id": "f13d6545",
   "metadata": {},
   "outputs": [],
   "source": [
    "df1_target = X['Failure_Model']\n",
    "df1_feature = X.drop('Failure_Model',axis=1)"
   ]
  },
  {
   "cell_type": "code",
   "execution_count": 14,
   "id": "3f574fcc",
   "metadata": {},
   "outputs": [
    {
     "data": {
      "text/plain": [
       "1    478\n",
       "4    421\n",
       "3    149\n",
       "0    124\n",
       "2     83\n",
       "Name: Failure_Model, dtype: int64"
      ]
     },
     "execution_count": 14,
     "metadata": {},
     "output_type": "execute_result"
    }
   ],
   "source": [
    "df1_target.value_counts()"
   ]
  },
  {
   "cell_type": "code",
   "execution_count": 15,
   "id": "2c6c1407",
   "metadata": {},
   "outputs": [],
   "source": [
    "X_train,X_test,y_train,y_test = train_test_split(df1_feature,df1_target,test_size=0.3,random_state=10)"
   ]
  },
  {
   "cell_type": "code",
   "execution_count": 16,
   "id": "ec2f5d2f",
   "metadata": {},
   "outputs": [],
   "source": [
    "decision_tree_classification = DecisionTreeClassifier(criterion='entropy',random_state=10)"
   ]
  },
  {
   "cell_type": "code",
   "execution_count": 17,
   "id": "9cd9a34f",
   "metadata": {},
   "outputs": [],
   "source": [
    "decision_tree = decision_tree_classification.fit(X_train,y_train)"
   ]
  },
  {
   "cell_type": "code",
   "execution_count": 18,
   "id": "c8328005",
   "metadata": {},
   "outputs": [],
   "source": [
    "y_pred_decision_tree = decision_tree.predict(X_test)"
   ]
  },
  {
   "cell_type": "code",
   "execution_count": 23,
   "id": "6ca5cdd0",
   "metadata": {},
   "outputs": [
    {
     "data": {
      "text/plain": [
       "array([3, 2, 4, 1, 4])"
      ]
     },
     "execution_count": 23,
     "metadata": {},
     "output_type": "execute_result"
    }
   ],
   "source": [
    "y_pred_decision_tree[0:5]"
   ]
  },
  {
   "cell_type": "code",
   "execution_count": 20,
   "id": "606b4741",
   "metadata": {},
   "outputs": [],
   "source": [
    "prediction1 = pd.DataFrame(y_pred_decision_tree, columns=['predictions'])\n",
    "prediction1['predictions'] = prediction1['predictions'].astype(int)\n",
    "prediction1[\"predictions\"] = prediction1['predictions'].map({0:'Electrical Model', 1:'Healthy State',2:'Lifetime Model',3:'Thermal Model',4:'Vibration Model'})"
   ]
  },
  {
   "cell_type": "code",
   "execution_count": 26,
   "id": "68dd815f",
   "metadata": {},
   "outputs": [
    {
     "data": {
      "text/html": [
       "<div>\n",
       "<style scoped>\n",
       "    .dataframe tbody tr th:only-of-type {\n",
       "        vertical-align: middle;\n",
       "    }\n",
       "\n",
       "    .dataframe tbody tr th {\n",
       "        vertical-align: top;\n",
       "    }\n",
       "\n",
       "    .dataframe thead th {\n",
       "        text-align: right;\n",
       "    }\n",
       "</style>\n",
       "<table border=\"1\" class=\"dataframe\">\n",
       "  <thead>\n",
       "    <tr style=\"text-align: right;\">\n",
       "      <th></th>\n",
       "      <th>predictions</th>\n",
       "    </tr>\n",
       "  </thead>\n",
       "  <tbody>\n",
       "    <tr>\n",
       "      <th>0</th>\n",
       "      <td>Thermal Model</td>\n",
       "    </tr>\n",
       "    <tr>\n",
       "      <th>1</th>\n",
       "      <td>Lifetime Model</td>\n",
       "    </tr>\n",
       "    <tr>\n",
       "      <th>2</th>\n",
       "      <td>Vibration Model</td>\n",
       "    </tr>\n",
       "    <tr>\n",
       "      <th>3</th>\n",
       "      <td>Healthy State</td>\n",
       "    </tr>\n",
       "    <tr>\n",
       "      <th>4</th>\n",
       "      <td>Vibration Model</td>\n",
       "    </tr>\n",
       "  </tbody>\n",
       "</table>\n",
       "</div>"
      ],
      "text/plain": [
       "       predictions\n",
       "0    Thermal Model\n",
       "1   Lifetime Model\n",
       "2  Vibration Model\n",
       "3    Healthy State\n",
       "4  Vibration Model"
      ]
     },
     "execution_count": 26,
     "metadata": {},
     "output_type": "execute_result"
    }
   ],
   "source": [
    "prediction1[0:5]"
   ]
  },
  {
   "cell_type": "code",
   "execution_count": 27,
   "id": "5f95beb2",
   "metadata": {},
   "outputs": [],
   "source": [
    "a = list(prediction1['predictions'])"
   ]
  },
  {
   "cell_type": "code",
   "execution_count": 28,
   "id": "cfa80a71",
   "metadata": {},
   "outputs": [],
   "source": [
    "import json"
   ]
  },
  {
   "cell_type": "code",
   "execution_count": 29,
   "id": "dc815f56",
   "metadata": {},
   "outputs": [],
   "source": [
    "b = json.dumps(a)"
   ]
  },
  {
   "cell_type": "code",
   "execution_count": 50,
   "id": "202f684a",
   "metadata": {},
   "outputs": [],
   "source": [
    " #get prediction\n",
    "input_cols = [[81,30, 230,1.5,28,1.004,1.143,9.125,1]]\n",
    "prediction = decision_tree.predict(input_cols)\n",
    "prediction1 = pd.DataFrame(prediction, columns=['predictions'])\n",
    "prediction1['predictions'] = prediction1['predictions'].astype(int)\n",
    "prediction1[\"predictions\"] = prediction1['predictions'].map({0:'Electrical Model', 1:'Healthy State',2:'Lifetime Model',3:'Thermal Model',4:'Vibration Model'})\n",
    "output1 = list(prediction1['predictions'])\n",
    "output = json.dumps(output1)"
   ]
  },
  {
   "cell_type": "code",
   "execution_count": 51,
   "id": "71d73ae1",
   "metadata": {},
   "outputs": [
    {
     "data": {
      "text/plain": [
       "'[\"Lifetime Model\"]'"
      ]
     },
     "execution_count": 51,
     "metadata": {},
     "output_type": "execute_result"
    }
   ],
   "source": [
    "output"
   ]
  },
  {
   "cell_type": "code",
   "execution_count": null,
   "id": "8b1b88f0",
   "metadata": {},
   "outputs": [],
   "source": []
  },
  {
   "cell_type": "code",
   "execution_count": null,
   "id": "48402afd",
   "metadata": {},
   "outputs": [],
   "source": []
  },
  {
   "cell_type": "code",
   "execution_count": null,
   "id": "bc7f7fae",
   "metadata": {},
   "outputs": [],
   "source": []
  },
  {
   "cell_type": "code",
   "execution_count": null,
   "id": "e60cc3a0",
   "metadata": {},
   "outputs": [],
   "source": [
    "X_test.head()"
   ]
  },
  {
   "cell_type": "code",
   "execution_count": null,
   "id": "1e11b30f",
   "metadata": {},
   "outputs": [],
   "source": []
  },
  {
   "cell_type": "code",
   "execution_count": null,
   "id": "bf1f9687",
   "metadata": {},
   "outputs": [],
   "source": []
  },
  {
   "cell_type": "code",
   "execution_count": null,
   "id": "d7e5f38d",
   "metadata": {},
   "outputs": [],
   "source": []
  },
  {
   "cell_type": "code",
   "execution_count": null,
   "id": "a6540985",
   "metadata": {},
   "outputs": [],
   "source": [
    "shakjkjdsj"
   ]
  },
  {
   "cell_type": "code",
   "execution_count": null,
   "id": "2f7a6c1c",
   "metadata": {},
   "outputs": [],
   "source": [
    "import pickle"
   ]
  },
  {
   "cell_type": "code",
   "execution_count": null,
   "id": "3cb540f3",
   "metadata": {},
   "outputs": [],
   "source": [
    "with open('Multiclass_DT.pkl', 'wb') as files:\n",
    "    pickle.dump(decision_tree, files)"
   ]
  },
  {
   "cell_type": "code",
   "execution_count": null,
   "id": "0eeca250",
   "metadata": {},
   "outputs": [],
   "source": [
    "with open('Multiclass_DT.pkl' , 'rb') as f:\n",
    "    Bdt = pickle.load(f)"
   ]
  },
  {
   "cell_type": "code",
   "execution_count": null,
   "id": "963dbb69",
   "metadata": {},
   "outputs": [],
   "source": [
    "from flask import Flask, render_template, request\n",
    "app = Flask(__name__)\n",
    "Bdt = pickle.load(open(\"Multiclass_DT.pkl\",'rb'))\n",
    "@app.route(\"/\")\n",
    "def home():\n",
    "    return render_template('Multiclass_machine.html')\n",
    "@app.route(\"/predict\", methods=['GET','POST'])\n",
    "def predict():\n",
    "    if request.method == 'POST':\n",
    "        #access the data from form\n",
    "\n",
    "        Lifetime = int(request.form[\"Lifetime\"])\n",
    "        Temperature = float(request.form[\"Temperature\"])\n",
    "        Voltage = float(request.form[\"Voltage\"])\n",
    "        Current = float(request.form[\"Current\"])\n",
    "        Humidity = float(request.form[\"Humidity\"])\n",
    "        VibrationX = float(request.form[\"VibrationX\"])\n",
    "        VibrationY = float(request.form[\"VibrationY\"])\n",
    "        VibrationZ = float(request.form[\"VibrationZ\"])\n",
    "        Machine_Name = int(request.form['Machine_Name'])\n",
    "        \n",
    "        \n",
    "        \n",
    "        #get prediction\n",
    "        input_cols = [[Lifetime,Temperature, Voltage, Current, Humidity,VibrationX, VibrationY, VibrationZ,Machine_Name]]\n",
    "        prediction = Bdt.predict(input_cols)\n",
    "        output = round(prediction[0], 2)\n",
    "        return render_template(\"Multiclass_machine.html\", prediction_text='Your predicted failure reason of machine is  {}'.format(output))\n",
    "if __name__ == \"__main__\":\n",
    "    app.run()"
   ]
  },
  {
   "cell_type": "code",
   "execution_count": null,
   "id": "d0ee94eb",
   "metadata": {},
   "outputs": [],
   "source": []
  }
 ],
 "metadata": {
  "kernelspec": {
   "display_name": "Python 3 (ipykernel)",
   "language": "python",
   "name": "python3"
  },
  "language_info": {
   "codemirror_mode": {
    "name": "ipython",
    "version": 3
   },
   "file_extension": ".py",
   "mimetype": "text/x-python",
   "name": "python",
   "nbconvert_exporter": "python",
   "pygments_lexer": "ipython3",
   "version": "3.9.7"
  }
 },
 "nbformat": 4,
 "nbformat_minor": 5
}
