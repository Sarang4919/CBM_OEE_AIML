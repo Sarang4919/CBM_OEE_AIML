{
 "cells": [
  {
   "cell_type": "code",
   "execution_count": 1,
   "id": "32f4a799",
   "metadata": {},
   "outputs": [],
   "source": [
    "import pandas as pd\n",
    "import numpy as np\n",
    "import matplotlib.pyplot as plt\n",
    "import seaborn as sns\n",
    "from sksurv.nonparametric import kaplan_meier_estimator\n",
    "from sksurv.linear_model import CoxPHSurvivalAnalysis\n",
    "from lifelines import CoxPHFitter\n",
    "import warnings\n",
    "warnings.filterwarnings('ignore')"
   ]
  },
  {
   "cell_type": "code",
   "execution_count": 2,
   "id": "d54190f3",
   "metadata": {},
   "outputs": [],
   "source": [
    "df = pd.read_csv(\"survival.csv\")"
   ]
  },
  {
   "cell_type": "code",
   "execution_count": 3,
   "id": "8e79611e",
   "metadata": {},
   "outputs": [],
   "source": [
    "df.rename(columns={'Vibration - X':'VibrationX','Vibration  Y':'VibrationY','Vibration  Z':'VibrationZ'},inplace=True)"
   ]
  },
  {
   "cell_type": "code",
   "execution_count": 4,
   "id": "7346524f",
   "metadata": {},
   "outputs": [],
   "source": [
    "columns = ['Lifetime', 'Broken', 'Temperature', 'Voltage', 'Current', 'Humidity','VibrationX', 'VibrationY', 'VibrationZ']\n",
    "data = df.loc[:,columns]"
   ]
  },
  {
   "cell_type": "code",
   "execution_count": 5,
   "id": "59c4c188",
   "metadata": {},
   "outputs": [
    {
     "data": {
      "text/plain": [
       "<lifelines.CoxPHFitter: fitted with 1255 total observations, 478 right-censored observations>"
      ]
     },
     "execution_count": 5,
     "metadata": {},
     "output_type": "execute_result"
    }
   ],
   "source": [
    "coxph = CoxPHFitter()\n",
    "coxph.fit(data, duration_col='Lifetime', event_col='Broken')"
   ]
  },
  {
   "cell_type": "code",
   "execution_count": 7,
   "id": "91126b57",
   "metadata": {},
   "outputs": [],
   "source": [
    "def predict(a,c,d,e,f,g,h,i):\n",
    "    data1 = pd.DataFrame({'Lifetime':[a],'Temperature':[c],'Voltage':[d],'Current':[e],'Humidity':[f],\n",
    "                          'VibrationX':[g],'VibrationY':[h],'VibrationZ':[i]})\n",
    "    pred_prob = coxph.predict_survival_function(data1,conditional_after=data1['Lifetime'])\n",
    "    \n",
    "    lifetime1 = []\n",
    "    for i in pred_prob.columns:\n",
    "        lifetime1.append(pred_prob.index[pred_prob[i]==pred_prob[i].quantile(0.5)][0])\n",
    "        \n",
    "    result1 = pd.DataFrame({'pred_lifetime':lifetime1})\n",
    "    output1 = pd.merge(data1,result1,left_index=True, right_index=True)\n",
    "    output1['RUL'] = output1.pred_lifetime - output1.Lifetime\n",
    "    #print(output1['pred_lifetime'][0])\n",
    "    #print(output1['RUL'][0])\n",
    "    print(output1.head())"
   ]
  },
  {
   "cell_type": "code",
   "execution_count": null,
   "id": "8152d3a5",
   "metadata": {},
   "outputs": [],
   "source": [
    "predict(60,30,230,1.5,36,0.494,1.290,9.120)"
   ]
  },
  {
   "cell_type": "code",
   "execution_count": null,
   "id": "62c4be89",
   "metadata": {},
   "outputs": [],
   "source": [
    "jgjkhjl"
   ]
  },
  {
   "cell_type": "code",
   "execution_count": null,
   "id": "7caf5dc6",
   "metadata": {},
   "outputs": [],
   "source": []
  },
  {
   "cell_type": "code",
   "execution_count": null,
   "id": "df77a673",
   "metadata": {},
   "outputs": [],
   "source": []
  },
  {
   "cell_type": "code",
   "execution_count": null,
   "id": "fd179e11",
   "metadata": {},
   "outputs": [],
   "source": []
  },
  {
   "cell_type": "code",
   "execution_count": null,
   "id": "26dd1994",
   "metadata": {},
   "outputs": [],
   "source": [
    "import pickle"
   ]
  },
  {
   "cell_type": "code",
   "execution_count": null,
   "id": "18d093bd",
   "metadata": {},
   "outputs": [],
   "source": [
    "with open('RUL_Cox.pkl', 'wb') as files:\n",
    "    pickle.dump(coxph, files)"
   ]
  },
  {
   "cell_type": "code",
   "execution_count": null,
   "id": "3a75feb1",
   "metadata": {},
   "outputs": [],
   "source": [
    "with open('RUL_Cox.pkl' , 'rb') as f:\n",
    "    RUL_Cox = pickle.load(f)"
   ]
  },
  {
   "cell_type": "code",
   "execution_count": null,
   "id": "6014e582",
   "metadata": {},
   "outputs": [],
   "source": [
    "from flask import Flask, render_template, request\n",
    "app = Flask(__name__)\n",
    "Bdt = pickle.load(open(\"RUL_Cox.pkl\",'rb'))\n",
    "@app.route(\"/\")\n",
    "def home():\n",
    "    return render_template('RUL_machine.html')\n",
    "@app.route(\"/predict\", methods=['GET','POST'])\n",
    "def predict():\n",
    "    if request.method == 'POST':\n",
    "        #access the data from form\n",
    "\n",
    "        Lifetime = int(request.form[\"Lifetime\"])\n",
    "        Broken = int(request.form[\"Broken\"])\n",
    "        Temperature = float(request.form[\"Temperature\"])\n",
    "        Voltage = float(request.form[\"Voltage\"])\n",
    "        Current = float(request.form[\"Current\"])\n",
    "        Humidity = float(request.form[\"Humidity\"])\n",
    "        VibrationX = float(request.form[\"VibrationX\"])\n",
    "        VibrationY = float(request.form[\"VibrationY\"])\n",
    "        VibrationZ = float(request.form[\"VibrationZ\"])\n",
    "        \n",
    "        \n",
    "        \n",
    "        #get prediction\n",
    "        def predict(a,b,c,d,e,f,g,h,i):\n",
    "            data1 = pd.DataFrame({'Lifetime':[a],'Broken':[b],'Temperature':[c],'Voltage':[d],'Current':[e],'Humidity':[f],\n",
    "                          'VibrationX':[g],'VibrationY':[h],'VibrationZ':[i]})\n",
    "            pred_prob = coxph.predict_survival_function(data1,conditional_after=data1['Lifetime'])\n",
    "    \n",
    "            lifetime1 = []\n",
    "            for i in pred_prob.columns:\n",
    "                lifetime1.append(pred_prob.index[pred_prob[i]==pred_prob[i].quantile(0.5)][0])\n",
    "        \n",
    "            result1 = pd.DataFrame({'pred_lifetime':lifetime1})\n",
    "            output1 = pd.merge(data1,result1,left_index=True, right_index=True)\n",
    "            output1['RUL'] = output1.pred_lifetime - output1.Lifetime\n",
    "            output = output1['RUL'][0]\n",
    "        return render_template(\"RUL_machine.html\", prediction_text='Your predicted Remaining Lifetime of machine is  {}'.format(output))\n",
    "if __name__ == \"__main__\":\n",
    "    app.run(debug=True)"
   ]
  }
 ],
 "metadata": {
  "kernelspec": {
   "display_name": "Python 3 (ipykernel)",
   "language": "python",
   "name": "python3"
  },
  "language_info": {
   "codemirror_mode": {
    "name": "ipython",
    "version": 3
   },
   "file_extension": ".py",
   "mimetype": "text/x-python",
   "name": "python",
   "nbconvert_exporter": "python",
   "pygments_lexer": "ipython3",
   "version": "3.9.7"
  }
 },
 "nbformat": 4,
 "nbformat_minor": 5
}
